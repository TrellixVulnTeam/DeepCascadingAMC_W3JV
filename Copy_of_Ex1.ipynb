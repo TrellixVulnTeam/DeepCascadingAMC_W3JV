{
  "cells": [
    {
      "cell_type": "markdown",
      "metadata": {
        "id": "jed0iN2afldE"
      },
      "source": [
        "# Mount Google Drive"
      ]
    },
    {
      "cell_type": "code",
      "execution_count": 1,
      "metadata": {
        "colab": {
          "base_uri": "https://localhost:8080/"
        },
        "id": "KRRHlZspfnkh",
        "outputId": "e5e2683b-582a-4b45-bf23-0e1a7b95beca"
      },
      "outputs": [
        {
          "output_type": "stream",
          "name": "stdout",
          "text": [
            "Mounted at /content/drive/\n"
          ]
        }
      ],
      "source": [
        "# Mount google drive\n",
        "from google.colab import drive\n",
        "drive.mount('/content/drive/')"
      ]
    },
    {
      "cell_type": "markdown",
      "metadata": {
        "id": "0v9VPCiPVi_p"
      },
      "source": [
        "# Chose Device"
      ]
    },
    {
      "cell_type": "code",
      "execution_count": 2,
      "metadata": {
        "colab": {
          "base_uri": "https://localhost:8080/"
        },
        "id": "_NNsZEdYVje-",
        "outputId": "a96ea123-31f0-4a91-f5d3-e8d993a2ceea"
      },
      "outputs": [
        {
          "output_type": "stream",
          "name": "stdout",
          "text": [
            "CUDA is available!  Training on GPU ...\n"
          ]
        }
      ],
      "source": [
        "# check if CUDA is available\n",
        "import torch\n",
        "is_gpu_available = torch.cuda.is_available()\n",
        "\n",
        "if not is_gpu_available:\n",
        "    print('CUDA is not available.  Training on CPU ...')\n",
        "else:\n",
        "    print('CUDA is available!  Training on GPU ...')\n",
        "\n",
        "DEVICE = 'cuda' if torch.cuda.is_available() else 'cpu'"
      ]
    },
    {
      "cell_type": "markdown",
      "metadata": {
        "id": "w0aYArQjVnGE"
      },
      "source": [
        "# Load Python Files"
      ]
    },
    {
      "cell_type": "code",
      "execution_count": 3,
      "metadata": {
        "id": "k_e-HA2UVncw"
      },
      "outputs": [],
      "source": [
        "# Load files \n",
        "from google.colab import files\n",
        "\n",
        "# Dataset Classes\n",
        "!cp /content/drive/MyDrive/Deep_learning_05107255/project/code/AMC_classes/data/encoder.py /content\n",
        "!cp /content/drive/MyDrive/Deep_learning_05107255/project/code/AMC_classes/data/dataset.py /content\n",
        "!cp /content/drive/MyDrive/Deep_learning_05107255/project/code/AMC_classes/data/dataset_builder.py /content\n",
        "!cp /content/drive/MyDrive/Deep_learning_05107255/project/code/AMC_classes/data/rml_2016.py /content\n",
        "!cp /content/drive/MyDrive/Deep_learning_05107255/project/code/AMC_classes/data/rml_2016_snr_groups.py /content\n",
        "!cp /content/drive/MyDrive/Deep_learning_05107255/project/code/AMC_classes/data/snr_encoder.py /content\n",
        "\n",
        "# Utils Classes\n",
        "!cp /content/drive/MyDrive/Deep_learning_05107255/project/code/AMC_classes/utils/plot.py /content\n",
        "\n",
        "# Training Classes\n",
        "!cp /content/drive/MyDrive/Deep_learning_05107255/project/code/AMC_classes/training/accuracy.py /content\n",
        "!cp /content/drive/MyDrive/Deep_learning_05107255/project/code/AMC_classes/training/confusion.py /content\n",
        "!cp /content/drive/MyDrive/Deep_learning_05107255/project/code/AMC_classes/training/baseModel.py /content\n",
        "\n"
      ]
    },
    {
      "cell_type": "markdown",
      "metadata": {
        "id": "tGS_JgjCV12G"
      },
      "source": [
        "# Import Functions & Classes"
      ]
    },
    {
      "cell_type": "code",
      "execution_count": 4,
      "metadata": {
        "id": "FjDA41cSV2WD"
      },
      "outputs": [],
      "source": [
        "# Plotting Includes\n",
        "import matplotlib.pyplot as plt\n",
        "import seaborn as sns\n",
        "sns.set_style(\"whitegrid\")\n",
        "\n",
        "# External Includes\n",
        "import numpy as np\n",
        "from pprint import pprint\n",
        "from typing import Tuple\n",
        "\n",
        "from torch.autograd import Variable\n",
        "import torch.nn as nn\n",
        "from torch.optim import Adam\n",
        "from torch.utils.data import DataLoader\n",
        "\n",
        "# Internal Includes\n",
        "# Data\n",
        "from dataset import Dataset\n",
        "from encoder import Encoder\n",
        "from rml_2016 import load_RML201610B_dataset\n",
        "from rml_2016_snr_groups import load_RML201610B_dataset_devided_by_snr,\\\n",
        " concatenate_data_sets, split_by_ls\n",
        "from snr_encoder import SNREncoder\n",
        "\n",
        "# Utils\n",
        "from plot import plot_acc_vs_snr, plot_confusion, plot_convergence, plot_IQ\n",
        "\n",
        "# Training\n",
        "from accuracy import compute_accuracy, compute_accuracy_on_cross_sections\n",
        "from confusion import compute_confusion\n",
        "from baseModel import Model"
      ]
    },
    {
      "cell_type": "markdown",
      "metadata": {
        "id": "-imJcwznbQOa"
      },
      "source": [
        "# Load Dataset"
      ]
    },
    {
      "cell_type": "markdown",
      "metadata": {
        "id": "iiMC7-AxbRpD"
      },
      "source": [
        "## Load "
      ]
    },
    {
      "cell_type": "code",
      "execution_count": 5,
      "metadata": {
        "id": "k9NPuNXy9mCT"
      },
      "outputs": [],
      "source": [
        "# Load\n",
        "import os\n",
        "drive_path = '/content/drive/MyDrive/Deep_learning_05107255/project'\n",
        "data_path = os.path.join(drive_path, 'RadioML2016_b/RML2016.10b.dat')"
      ]
    },
    {
      "cell_type": "code",
      "execution_count": 6,
      "metadata": {
        "id": "V7XPU65ybUWv"
      },
      "outputs": [],
      "source": [
        "# dataset = load_RML201610B_dataset(path=data_path)\n",
        "\n",
        "# # Print\n",
        "# print(len(dataset))\n",
        "# pprint(dataset.get_examples_per_class())"
      ]
    },
    {
      "cell_type": "code",
      "execution_count": 7,
      "metadata": {
        "colab": {
          "base_uri": "https://localhost:8080/"
        },
        "id": "fCn64hArLeUk",
        "outputId": "255306dd-2440-4b95-ef5b-edbdd94f8d4b"
      },
      "outputs": [
        {
          "output_type": "stream",
          "name": "stdout",
          "text": [
            "Num examples High SNR : 420000\n",
            "Num examples Medium SNR : 420000\n",
            "Num examples Low SNR : 360000\n",
            "High SNR per class examples :\n",
            "{'8PSK': 42000,\n",
            " 'AM-DSB': 42000,\n",
            " 'BPSK': 42000,\n",
            " 'CPFSK': 42000,\n",
            " 'GFSK': 42000,\n",
            " 'PAM4': 42000,\n",
            " 'QAM16': 42000,\n",
            " 'QAM64': 42000,\n",
            " 'QPSK': 42000,\n",
            " 'WBFM': 42000}\n"
          ]
        }
      ],
      "source": [
        "# Dataset divided to 3 SNR Groups\n",
        "datasetLow, dataMed, datasetHigh = load_RML201610B_dataset_devided_by_snr(path=data_path, n_snr_groups=3)\n",
        "\n",
        "# Print\n",
        "print('Num examples High SNR :', len(datasetHigh))\n",
        "print('Num examples Medium SNR :', len(dataMed))\n",
        "print('Num examples Low SNR :', len(datasetLow))\n",
        "print('High SNR per class examples :')\n",
        "pprint(datasetHigh.get_examples_per_class())"
      ]
    },
    {
      "cell_type": "markdown",
      "metadata": {
        "id": "RVDce72rOfCg"
      },
      "source": [
        "## Create SNR Encoder "
      ]
    },
    {
      "cell_type": "code",
      "execution_count": 8,
      "metadata": {
        "id": "Gy5k8WPS9csZ"
      },
      "outputs": [],
      "source": [
        "snr_enc = SNREncoder(label_name=\"SNR\")"
      ]
    },
    {
      "cell_type": "markdown",
      "metadata": {
        "id": "k6YJFWA7btyF"
      },
      "source": [
        "## Split to Train - Val - Test"
      ]
    },
    {
      "cell_type": "code",
      "execution_count": 9,
      "metadata": {
        "id": "BDrmLGzp-pCz"
      },
      "outputs": [],
      "source": [
        "# # All together\n",
        "# train, test = dataset.split(frac=0.3, on=[\"Modulation\", \"SNR\"])\n",
        "# train, val = train.split(frac=0.05, on=[\"Modulation\", \"SNR\"])\n",
        "\n",
        "# # -----------------------------------------------------------------\n",
        "# print(\"Training Examples\")\n",
        "# print(\"=================\")\n",
        "# pprint(train.get_examples_per_class())\n",
        "# print(\"=================\")\n",
        "# print()\n",
        "# print(\"Validation Examples\")\n",
        "# print(\"=================\")\n",
        "# pprint(val.get_examples_per_class())\n",
        "# print(\"=================\")\n",
        "# print()\n",
        "# print(\"Testing Examples\")\n",
        "# print(\"=================\")\n",
        "# pprint(test.get_examples_per_class())\n",
        "# print(\"=================\")"
      ]
    },
    {
      "cell_type": "code",
      "execution_count": 10,
      "metadata": {
        "id": "RBzjyVI-_H-a"
      },
      "outputs": [],
      "source": [
        "# Splitted to SNR\n",
        "# High\n",
        "train_high_snr, test_high_snr = datasetHigh.split(frac=0.3, on=[\"Modulation\", \"SNR\"])\n",
        "train_high_snr, val_high_snr = train_high_snr.split(frac=0.05, on=[\"Modulation\", \"SNR\"])\n",
        "# medium\n",
        "train_med_snr, test_med_snr = dataMed.split(frac=0.3, on=[\"Modulation\", \"SNR\"])\n",
        "train_med_snr, val_med_snr = train_med_snr.split(frac=0.05, on=[\"Modulation\", \"SNR\"])\n",
        "# low\n",
        "train_low_snr, test_low_snr = datasetLow.split(frac=0.3, on=[\"Modulation\", \"SNR\"])\n",
        "train_low_snr, val_low_snr = train_low_snr.split(frac=0.05, on=[\"Modulation\", \"SNR\"])"
      ]
    },
    {
      "cell_type": "code",
      "execution_count": 11,
      "metadata": {
        "colab": {
          "base_uri": "https://localhost:8080/"
        },
        "id": "WLhwgW2Q_K-c",
        "outputId": "1d564182-df7d-4295-fa51-2f67a6746630"
      },
      "outputs": [
        {
          "output_type": "stream",
          "name": "stdout",
          "text": [
            "Training Examples\n",
            "=================\n",
            "{'8PSK': 79780,\n",
            " 'AM-DSB': 79780,\n",
            " 'BPSK': 79780,\n",
            " 'CPFSK': 79780,\n",
            " 'GFSK': 79780,\n",
            " 'PAM4': 79780,\n",
            " 'QAM16': 79780,\n",
            " 'QAM64': 79780,\n",
            " 'QPSK': 79780,\n",
            " 'WBFM': 79780}\n",
            "=================\n",
            "\n",
            "Validation Examples\n",
            "=================\n",
            "{'8PSK': 4200,\n",
            " 'AM-DSB': 4200,\n",
            " 'BPSK': 4200,\n",
            " 'CPFSK': 4200,\n",
            " 'GFSK': 4200,\n",
            " 'PAM4': 4200,\n",
            " 'QAM16': 4200,\n",
            " 'QAM64': 4200,\n",
            " 'QPSK': 4200,\n",
            " 'WBFM': 4200}\n",
            "=================\n",
            "\n",
            "Testing Examples\n",
            "=================\n",
            "{'8PSK': 36020,\n",
            " 'AM-DSB': 36020,\n",
            " 'BPSK': 36020,\n",
            " 'CPFSK': 36020,\n",
            " 'GFSK': 36020,\n",
            " 'PAM4': 36020,\n",
            " 'QAM16': 36020,\n",
            " 'QAM64': 36020,\n",
            " 'QPSK': 36020,\n",
            " 'WBFM': 36020}\n",
            "=================\n"
          ]
        }
      ],
      "source": [
        "train = concatenate_data_sets([train_high_snr, train_med_snr, train_low_snr])\n",
        "val = concatenate_data_sets([val_high_snr, val_med_snr, val_low_snr])\n",
        "test = concatenate_data_sets([test_high_snr, test_med_snr, test_low_snr])\n",
        "# -----------------------------------------------------------------\n",
        "print(\"Training Examples\")\n",
        "print(\"=================\")\n",
        "pprint(train.get_examples_per_class())\n",
        "print(\"=================\")\n",
        "print()\n",
        "print(\"Validation Examples\")\n",
        "print(\"=================\")\n",
        "pprint(val.get_examples_per_class())\n",
        "print(\"=================\")\n",
        "print()\n",
        "print(\"Testing Examples\")\n",
        "print(\"=================\")\n",
        "pprint(test.get_examples_per_class())\n",
        "print(\"=================\")"
      ]
    },
    {
      "cell_type": "code",
      "execution_count": 12,
      "metadata": {
        "colab": {
          "base_uri": "https://localhost:8080/"
        },
        "id": "YNOPc65iKHWl",
        "outputId": "58db86ce-b347-417f-d76d-462ff336d006"
      },
      "outputs": [
        {
          "output_type": "stream",
          "name": "stdout",
          "text": [
            "Training Examples\n",
            "=================\n",
            "{'8PSK': 35901,\n",
            " 'AM-DSB': 35901,\n",
            " 'BPSK': 35901,\n",
            " 'CPFSK': 35901,\n",
            " 'GFSK': 35901,\n",
            " 'PAM4': 35901,\n",
            " 'QAM16': 35901,\n",
            " 'QAM64': 35901,\n",
            " 'QPSK': 35901,\n",
            " 'WBFM': 35901}\n",
            "=================\n",
            "\n",
            "Validation Examples\n",
            "=================\n",
            "{'8PSK': 47868,\n",
            " 'AM-DSB': 47868,\n",
            " 'BPSK': 47868,\n",
            " 'CPFSK': 47868,\n",
            " 'GFSK': 47868,\n",
            " 'PAM4': 47868,\n",
            " 'QAM16': 47868,\n",
            " 'QAM64': 47868,\n",
            " 'QPSK': 47868,\n",
            " 'WBFM': 47868}\n",
            "=================\n",
            "\n",
            "Testing Examples\n",
            "=================\n",
            "{'8PSK': 35901,\n",
            " 'AM-DSB': 35901,\n",
            " 'BPSK': 35901,\n",
            " 'CPFSK': 35901,\n",
            " 'GFSK': 35901,\n",
            " 'PAM4': 35901,\n",
            " 'QAM16': 35901,\n",
            " 'QAM64': 35901,\n",
            " 'QPSK': 35901,\n",
            " 'WBFM': 35901}\n",
            "=================\n"
          ]
        }
      ],
      "source": [
        "train_low_snr_ls, train_med_snr_ls, train_high_snr_ls = split_by_ls(train, n_snr_groups=3)\n",
        "# -----------------------------------------------------------------\n",
        "print(\"Training Examples\")\n",
        "print(\"=================\")\n",
        "pprint(train_low_snr_ls.get_examples_per_class())\n",
        "print(\"=================\")\n",
        "print()\n",
        "print(\"Validation Examples\")\n",
        "print(\"=================\")\n",
        "pprint(train_med_snr_ls.get_examples_per_class())\n",
        "print(\"=================\")\n",
        "print()\n",
        "print(\"Testing Examples\")\n",
        "print(\"=================\")\n",
        "pprint(train_high_snr_ls.get_examples_per_class())\n",
        "print(\"=================\")"
      ]
    },
    {
      "cell_type": "markdown",
      "metadata": {
        "id": "LQYCZeVtbvYU"
      },
      "source": [
        "## Labels encoder"
      ]
    },
    {
      "cell_type": "code",
      "execution_count": 13,
      "metadata": {
        "colab": {
          "base_uri": "https://localhost:8080/"
        },
        "id": "dummAyN9bxCE",
        "outputId": "d6564c91-7b2a-44f2-d9d9-27cc68803065"
      },
      "outputs": [
        {
          "output_type": "stream",
          "name": "stdout",
          "text": [
            "WBFM: 0\n",
            "AM-DSB: 1\n",
            "CPFSK: 2\n",
            "GFSK: 3\n",
            "BPSK: 4\n",
            "QPSK: 5\n",
            "8PSK: 6\n",
            "PAM4: 7\n",
            "QAM16: 8\n",
            "QAM64: 9\n",
            "\n"
          ]
        }
      ],
      "source": [
        "le = Encoder([\"WBFM\",\n",
        "              \"AM-DSB\",\n",
        "              \"CPFSK\",\n",
        "              \"GFSK\",\n",
        "              \"BPSK\",\n",
        "              \"QPSK\",\n",
        "              \"8PSK\",\n",
        "              \"PAM4\",\n",
        "              \"QAM16\",\n",
        "              \"QAM64\"],\n",
        "             label_name=\"Modulation\")\n",
        "print(le)"
      ]
    },
    {
      "cell_type": "markdown",
      "metadata": {
        "id": "jwIVHnfhby5i"
      },
      "source": [
        "## Plot Example"
      ]
    },
    {
      "cell_type": "code",
      "execution_count": 14,
      "metadata": {
        "colab": {
          "base_uri": "https://localhost:8080/",
          "height": 350
        },
        "id": "HEQVXOJtb0lV",
        "outputId": "7ab3dc2a-1060-4d67-ceee-3ef2b20f40b5"
      },
      "outputs": [
        {
          "output_type": "display_data",
          "data": {
            "text/plain": [
              "<Figure size 720x360 with 1 Axes>"
            ],
            "image/png": "[encoded data removed]"
          },
          "metadata": {}
        }
      ],
      "source": [
        "fig_dir = None\n",
        "# Plot a sample of the data\n",
        "# You can choose a different sample by changing\n",
        "idx = 10\n",
        "snr = 6\n",
        "modulation = \"CPFSK\"\n",
        "\n",
        "mask = (train.df[\"SNR\"] == snr) & (train.df[\"Modulation\"] == modulation)\n",
        "sample = train.as_numpy(mask=mask, le=le)[0][idx,0,:]\n",
        "t = np.arange(sample.shape[1])\n",
        "\n",
        "title = \"{modulation} Sample at {snr:.0f} dB SNR\".format(modulation=modulation, snr=snr)\n",
        "fig = plot_IQ(iq=sample, title=title)\n",
        "if fig_dir is not None:\n",
        "    file_path = \"{fig_dir}/{modulation}_{snr:.0f}dB_sample.pdf\".format(fig_dir=fig_dir,\n",
        "                                                                       modulation=modulation,\n",
        "                                                                       snr=snr)\n",
        "    print(\"Saving Figure -> {file_path}\".format(file_path=file_path))\n",
        "    fig.savefig(file_path, format=\"pdf\", transparent=True)\n",
        "plt.show()"
      ]
    },
    {
      "cell_type": "markdown",
      "metadata": {
        "id": "jwypu6XNb1ld"
      },
      "source": [
        "# Model"
      ]
    },
    {
      "cell_type": "code",
      "execution_count": 15,
      "metadata": {
        "colab": {
          "base_uri": "https://localhost:8080/"
        },
        "id": "joRHCoL_b3iv",
        "outputId": "a509daf2-1de0-489c-8efa-36689300feec"
      },
      "outputs": [
        {
          "output_type": "stream",
          "name": "stdout",
          "text": [
            "CNN1(\n",
            "  (conv1): Conv2d(1, 256, kernel_size=(1, 7), stride=(1, 1), padding=(0, 3), bias=False)\n",
            "  (a1): ReLU()\n",
            "  (n1): BatchNorm2d(256, eps=1e-05, momentum=0.1, affine=True, track_running_stats=True)\n",
            "  (conv2): Conv2d(256, 80, kernel_size=(1, 7), stride=(1, 1), padding=(0, 3))\n",
            "  (a2): ReLU()\n",
            "  (n2): BatchNorm2d(80, eps=1e-05, momentum=0.1, affine=True, track_running_stats=True)\n",
            "  (conv3): Conv2d(80, 30, kernel_size=(2, 7), stride=(1, 1), padding=(0, 3))\n",
            "  (a3): ReLU()\n",
            "  (n3): BatchNorm2d(30, eps=1e-05, momentum=0.1, affine=True, track_running_stats=True)\n",
            "  (dense1): Linear(in_features=3840, out_features=256, bias=True)\n",
            "  (a4): ReLU()\n",
            "  (n4): BatchNorm1d(256, eps=1e-05, momentum=0.1, affine=True, track_running_stats=True)\n",
            "  (dense2): Linear(in_features=256, out_features=10, bias=True)\n",
            ")\n",
            "----------------------\n",
            "Trainable Parameters: 1165972\n",
            "Fixed Parameters: 0\n",
            "Total Parameters: 1165972\n",
            "----------------------\n",
            "\n"
          ]
        }
      ],
      "source": [
        "class CNN1(Model):\n",
        "    def __init__(self, input_samples: int, n_classes: int):\n",
        "        super().__init__(input_samples=input_samples, n_classes=n_classes)\n",
        "        # Batch x 1-channel x IQ x input_samples\n",
        "        \n",
        "        self.conv1 = nn.Conv2d(\n",
        "            in_channels=1,\n",
        "            out_channels=256,\n",
        "            kernel_size=(1, 7),\n",
        "            padding=(0, 3),\n",
        "            bias=False,\n",
        "        )\n",
        "        self.a1 = nn.ReLU()\n",
        "        self.n1 = nn.BatchNorm2d(256)\n",
        "\n",
        "        self.conv2 = nn.Conv2d(\n",
        "            in_channels=256,\n",
        "            out_channels=80,\n",
        "            kernel_size=(1, 7),\n",
        "            padding=(0, 3),\n",
        "            bias=True,\n",
        "        )\n",
        "        self.a2 = nn.ReLU()\n",
        "        self.n2 = nn.BatchNorm2d(80)\n",
        "\n",
        "        self.conv3 = nn.Conv2d(\n",
        "            in_channels=80,\n",
        "            out_channels=30,\n",
        "            kernel_size=(2, 7),\n",
        "            padding=(0, 3),\n",
        "            bias=True,\n",
        "        )\n",
        "\n",
        "        self.a3 = nn.ReLU()\n",
        "        self.n3 = nn.BatchNorm2d(30)\n",
        "\n",
        "        # Batch x Features\n",
        "        self.dense1 = nn.Linear(30 * 1 * input_samples, 256)\n",
        "        self.a4 = nn.ReLU()\n",
        "        self.n4 = nn.BatchNorm1d(256)\n",
        "\n",
        "        self.dense2 = nn.Linear(256, n_classes)\n",
        "\n",
        "    def forward(self, x):\n",
        "        x = self.conv1(x)\n",
        "        x = self.a1(x)\n",
        "        x = self.n1(x)\n",
        "\n",
        "        x = self.conv2(x)\n",
        "        x = self.a2(x)\n",
        "        x = self.n2(x)\n",
        "\n",
        "        x = self.conv3(x)\n",
        "        x = self.a3(x)\n",
        "        x = self.n3(x)\n",
        "\n",
        "        # Flatten the input layer down to 1-d by using Tensor operations\n",
        "        x = x.contiguous()\n",
        "        x = x.view(x.size()[0], -1)\n",
        "\n",
        "        x = self.dense1(x)\n",
        "        x = self.a4(x)\n",
        "        x = self.n4(x)\n",
        "\n",
        "        x = self.dense2(x)\n",
        "\n",
        "        return x\n",
        "\n",
        "model = CNN1(input_samples=128, n_classes=10)\n",
        "print(model)       "
      ]
    },
    {
      "cell_type": "markdown",
      "metadata": {
        "id": "XPYnEKnxb6FO"
      },
      "source": [
        "# Training Functions"
      ]
    },
    {
      "cell_type": "code",
      "execution_count": 16,
      "metadata": {
        "id": "KcafPpz8b6ZT"
      },
      "outputs": [],
      "source": [
        "class MyTrainingStrategy(object):\n",
        "\n",
        "    def __init__(self, lr: float = 10e-4, n_epochs: int = 3, gpu: bool = True):\n",
        "        self.lr = lr\n",
        "        self.n_epochs = n_epochs\n",
        "        self.gpu = gpu\n",
        "\n",
        "    def __repr__(self):\n",
        "        ret = self.__class__.__name__\n",
        "        ret += \"(lr={}, n_epochs={}, gpu={})\".format(self.lr, self.n_epochs, self.gpu)\n",
        "        return ret\n",
        "        \n",
        "    def __call__(\n",
        "        self, model: nn.Module, training: Dataset, validation: Dataset, le: Encoder\n",
        "    ):\n",
        "        criterion = nn.CrossEntropyLoss()\n",
        "\n",
        "        if self.gpu:\n",
        "            model.cuda()\n",
        "            criterion.cuda()\n",
        "\n",
        "        optimizer = Adam(model.parameters(), lr=self.lr)\n",
        "\n",
        "        train_data = DataLoader(\n",
        "            training.as_torch(le=le), shuffle=True, batch_size=512\n",
        "        )\n",
        "        val_data = DataLoader(\n",
        "            validation.as_torch(le=le), shuffle=True, batch_size=512\n",
        "        )\n",
        "\n",
        "        # Save two lists for plotting a convergence graph at the end\n",
        "        ret_train_loss = list()\n",
        "        ret_val_loss = list()\n",
        "        \n",
        "        for epoch in range(self.n_epochs):\n",
        "            model, train_loss = self._train_one_epoch(model=model, data=train_data, loss_fn=criterion, optimizer=optimizer)\n",
        "\n",
        "            print(\"On Epoch {} the training loss was {}\".format(epoch, train_loss))\n",
        "            ret_train_loss.append(train_loss)\n",
        "\n",
        "            val_loss = self._validate_once(\n",
        "                model=model, data=val_data, loss_fn=criterion\n",
        "            )\n",
        "            print(\"---- validation loss was {}\".format(val_loss))\n",
        "            ret_val_loss.append(val_loss)\n",
        "\n",
        "        return model, ret_train_loss, ret_val_loss\n",
        "\n",
        "    def _train_one_epoch(\n",
        "        self, model: nn.Module, data: DataLoader, loss_fn: nn.CrossEntropyLoss, optimizer: Adam\n",
        "    ) -> float:\n",
        "        total_loss = 0.0\n",
        "        # Switch the model mode so it remembers gradients, induces dropout, etc.\n",
        "        model.train()\n",
        "\n",
        "        for i, batch in enumerate(data):\n",
        "            x, y = batch\n",
        "\n",
        "            # Push data to GPU if necessary\n",
        "            if self.gpu:\n",
        "                x = Variable(x.cuda())\n",
        "                y = Variable(y.cuda())\n",
        "            else:\n",
        "                x = Variable(x)\n",
        "                y = Variable(y)\n",
        "\n",
        "            # Forward pass of prediction\n",
        "            outputs = model(x)\n",
        "\n",
        "            # Zero out the parameter gradients, because they are cumulative,\n",
        "            # compute loss, compute gradients (backward), update weights\n",
        "            loss = loss_fn(outputs, y)\n",
        "            optimizer.zero_grad()\n",
        "            loss.backward()\n",
        "            optimizer.step()\n",
        "\n",
        "            total_loss += loss.item()\n",
        "\n",
        "        mean_loss = total_loss / (i + 1.0)\n",
        "        return model, mean_loss\n",
        "\n",
        "    def _validate_once(\n",
        "        self, model: nn.Module, data: DataLoader, loss_fn: nn.CrossEntropyLoss\n",
        "    ) -> float:\n",
        "        total_loss = 0.0\n",
        "        # Switch the model back to test mode (so that batch norm/dropout doesn't\n",
        "        # take effect)\n",
        "        model.eval()\n",
        "        for i, batch in enumerate(data):\n",
        "            x, y = batch\n",
        "\n",
        "            if self.gpu:\n",
        "                x = x.cuda()\n",
        "                y = y.cuda()\n",
        "\n",
        "            outputs = model(x)\n",
        "            loss = loss_fn(outputs, y)\n",
        "            total_loss += loss.item()\n",
        "\n",
        "        mean_loss = total_loss / (i + 1.0)\n",
        "        return mean_loss\n",
        "\n",
        "# ----------------------------------------------------------------- #\n",
        "from datetime import datetime \n",
        "def save_model(model, dir_path, name):\n",
        "  # create checkpints folder\n",
        "  checkpoint_folder = os.path.join(dir_path, 'checkpoints')\n",
        "  os.makedirs(checkpoint_folder, exist_ok=True)\n",
        "  # save model\n",
        "  curr_datetime = datetime.now().strftime(\"%y_%m_%d_%H:%M:%S\")\n",
        "  model_name = f'{curr_datetime}'.replace(':', '_')\n",
        "  model_name = name + '_' + model_name\n",
        "  \n",
        "  ckpt_path = os.path.join(checkpoint_folder, f'{model_name}.ckpt')\n",
        "  torch.save({\n",
        "    'model_state_dict': model.state_dict(),\n",
        "  }, ckpt_path)\n",
        "\n",
        "  print(f'model saved to \"{ckpt_path}\"')"
      ]
    },
    {
      "cell_type": "code",
      "execution_count": 17,
      "metadata": {
        "colab": {
          "base_uri": "https://localhost:8080/"
        },
        "id": "-VRW-fGDb9GS",
        "outputId": "fee9f453-c421-4f1c-e7c4-f37dfdf4d0d1"
      },
      "outputs": [
        {
          "output_type": "stream",
          "name": "stdout",
          "text": [
            "MyTrainingStrategy(lr=0.001, n_epochs=3, gpu=True)\n"
          ]
        }
      ],
      "source": [
        "gpu = is_gpu_available\n",
        "trainer = MyTrainingStrategy(gpu=gpu)\n",
        "print(trainer)"
      ]
    },
    {
      "cell_type": "markdown",
      "metadata": {
        "id": "unZKlLPwb-b1"
      },
      "source": [
        "# Train the network"
      ]
    },
    {
      "cell_type": "markdown",
      "metadata": {
        "id": "BH38jk8cSn4z"
      },
      "source": [
        "## Train on all examples"
      ]
    },
    {
      "cell_type": "code",
      "execution_count": 18,
      "metadata": {
        "colab": {
          "base_uri": "https://localhost:8080/"
        },
        "id": "4sNoAULwb_wH",
        "outputId": "966708d8-92d4-4cd9-d726-1ed2eeec33f0"
      },
      "outputs": [
        {
          "output_type": "stream",
          "name": "stdout",
          "text": [
            "On Epoch 0 the training loss was 1.0710935128507437\n",
            "---- validation loss was 1.011749084455421\n",
            "On Epoch 1 the training loss was 0.9875505721439071\n",
            "---- validation loss was 0.9788595947874598\n",
            "On Epoch 2 the training loss was 0.9579103255669531\n",
            "---- validation loss was 0.9589148968099112\n"
          ]
        }
      ],
      "source": [
        "model_allSNR, train_loss_allSNR, val_loss_allSNR = trainer(model=model, training=train, validation=val, le=le)"
      ]
    },
    {
      "cell_type": "markdown",
      "metadata": {
        "id": "dZX_07DpSuwF"
      },
      "source": [
        "## Train By SNR groups"
      ]
    },
    {
      "cell_type": "markdown",
      "metadata": {
        "id": "cC7qlixxSynC"
      },
      "source": [
        "### High SNR (6 : 18[dB])"
      ]
    },
    {
      "cell_type": "code",
      "execution_count": null,
      "metadata": {
        "colab": {
          "base_uri": "https://localhost:8080/"
        },
        "id": "eTlBbbfESvb_",
        "outputId": "745ec106-b1ef-41e6-c25e-68927ae3a920"
      },
      "outputs": [
        {
          "output_type": "stream",
          "name": "stdout",
          "text": [
            "On Epoch 0 the training loss was 0.2130360629865926\n",
            "---- validation loss was 0.23261199120817513\n",
            "On Epoch 1 the training loss was 0.18983644803195257\n",
            "---- validation loss was 0.21490391112607102\n"
          ]
        }
      ],
      "source": [
        "model_highSNR, train_loss_highSNR, val_loss_highSNR = trainer(model=model, training=train_high_snr_ls, validation=val_high_snr, le=le)\n"
      ]
    },
    {
      "cell_type": "markdown",
      "metadata": {
        "id": "F_cXJaORS3-C"
      },
      "source": [
        "### Medium SNR (-8 : 4 [dB])"
      ]
    },
    {
      "cell_type": "code",
      "execution_count": null,
      "metadata": {
        "id": "Y8e8KZh5S5x8"
      },
      "outputs": [],
      "source": [
        "model_medSNR, train_loss_medSNR, val_loss_medSNR = trainer(model=model, training=train_med_snr_ls, validation=val_med_snr, le=le)"
      ]
    },
    {
      "cell_type": "markdown",
      "metadata": {
        "id": "k98hFf7bS8EX"
      },
      "source": [
        "### Low SNR (-20 : - 10 [dB])"
      ]
    },
    {
      "cell_type": "code",
      "execution_count": null,
      "metadata": {
        "id": "zrYgpJtVS-iw"
      },
      "outputs": [],
      "source": [
        "model_lowSNR, train_loss_lowSNR, val_loss_lowSNR = trainer(model=model, training=train_low_snr_ls, validation=val_low_snr, le=le)\n"
      ]
    },
    {
      "cell_type": "markdown",
      "metadata": {
        "id": "5uN9EnK2IDZT"
      },
      "source": [
        "## Train SEN"
      ]
    },
    {
      "cell_type": "code",
      "execution_count": null,
      "metadata": {
        "id": "F9sCUvSrIBlF"
      },
      "outputs": [],
      "source": [
        "sen_model = CNN1(input_samples=128, n_classes=snr_enc.n_classes)\n",
        "sen_model, sen_train_loss, sen_val_loss = trainer(model=sen_model, training=train, validation=val, le=snr_enc)"
      ]
    },
    {
      "cell_type": "markdown",
      "metadata": {
        "id": "APyKGLWgcMoW"
      },
      "source": [
        "## Plot results"
      ]
    },
    {
      "cell_type": "markdown",
      "metadata": {
        "id": "OWi9h116TCOj"
      },
      "source": [
        "### All SNR's"
      ]
    },
    {
      "cell_type": "code",
      "execution_count": null,
      "metadata": {
        "id": "2mTgGwGLTD8r"
      },
      "outputs": [],
      "source": [
        "title = \"All SNR : Training Results of {model_name} on {dataset_name}\".format(model_name=\"CNN1\", dataset_name=\"RML2016.10B\")\n",
        "fig = plot_convergence(train_loss=train_loss_allSNR, val_loss=val_loss_allSNR, title=title)\n",
        "if fig_dir is not None:\n",
        "    file_path = \"{fig_dir}/allSNR_training_loss.pdf\"\n",
        "    print(\"Saving Figure -> {file_path}\".format(file_path=file_path))\n",
        "    fig.savefig(file_path, format=\"pdf\", transparent=True)\n",
        "plt.show()"
      ]
    },
    {
      "cell_type": "markdown",
      "metadata": {
        "id": "NOt9zjOSTH8l"
      },
      "source": [
        "### High SNR"
      ]
    },
    {
      "cell_type": "code",
      "execution_count": null,
      "metadata": {
        "id": "LOlDVCz5TMu4"
      },
      "outputs": [],
      "source": [
        "title = \"High SNR : Training Results of {model_name} on {dataset_name}\".format(model_name=\"CNN1\", dataset_name=\"RML2016.10B\")\n",
        "fig = plot_convergence(train_loss=train_loss_highSNR, val_loss=val_loss_highSNR, title=title)\n",
        "if fig_dir is not None:\n",
        "    file_path = \"{fig_dir}/highSNR_training_loss.pdf\"\n",
        "    print(\"Saving Figure -> {file_path}\".format(file_path=file_path))\n",
        "    fig.savefig(file_path, format=\"pdf\", transparent=True)\n",
        "plt.show()"
      ]
    },
    {
      "cell_type": "markdown",
      "metadata": {
        "id": "v4hQmHsdTRbr"
      },
      "source": [
        "### Medium SNR"
      ]
    },
    {
      "cell_type": "code",
      "execution_count": null,
      "metadata": {
        "id": "t-FIS9SWTTID"
      },
      "outputs": [],
      "source": [
        "title = \"Medium SNR : Training Results of {model_name} on {dataset_name}\".format(model_name=\"CNN1\", dataset_name=\"RML2016.10B\")\n",
        "fig = plot_convergence(train_loss=train_loss_medSNR, val_loss=val_loss_medSNR, title=title)\n",
        "if fig_dir is not None:\n",
        "    file_path = \"{fig_dir}/medSNR_training_loss.pdf\"\n",
        "    print(\"Saving Figure -> {file_path}\".format(file_path=file_path))\n",
        "    fig.savefig(file_path, format=\"pdf\", transparent=True)\n",
        "plt.show()"
      ]
    },
    {
      "cell_type": "markdown",
      "metadata": {
        "id": "mzjbnq6dTWYF"
      },
      "source": [
        "### Low SNR"
      ]
    },
    {
      "cell_type": "code",
      "execution_count": null,
      "metadata": {
        "id": "Jjmi9g6XTYDg"
      },
      "outputs": [],
      "source": [
        "title = \"Low SNR : Training Results of {model_name} on {dataset_name}\".format(model_name=\"CNN1\", dataset_name=\"RML2016.10B\")\n",
        "fig = plot_convergence(train_loss=train_loss_lowSNR, val_loss=val_loss_lowSNR, title=title)\n",
        "if fig_dir is not None:\n",
        "    file_path = \"{fig_dir}/lowSNR_training_loss.pdf\"\n",
        "    print(\"Saving Figure -> {file_path}\".format(file_path=file_path))\n",
        "    fig.savefig(file_path, format=\"pdf\", transparent=True)\n",
        "plt.show()"
      ]
    },
    {
      "cell_type": "markdown",
      "metadata": {
        "id": "bEZ_SWBYIXE0"
      },
      "source": [
        "### SEN"
      ]
    },
    {
      "cell_type": "code",
      "execution_count": null,
      "metadata": {
        "id": "UQcp-6ejIZbP"
      },
      "outputs": [],
      "source": [
        "title = \"Training Results of {model_name} on {dataset_name}\".format(model_name=\"SEN\", dataset_name=\"RML2016.10B\")\n",
        "fig = plot_convergence(train_loss=sen_train_loss, val_loss=sen_val_loss, title=title)\n",
        "plt.show()"
      ]
    },
    {
      "cell_type": "markdown",
      "metadata": {
        "id": "D-FXHbk_cPjj"
      },
      "source": [
        "# Save Model"
      ]
    },
    {
      "cell_type": "code",
      "execution_count": null,
      "metadata": {
        "id": "RNtDjnFdTePM"
      },
      "outputs": [],
      "source": [
        "from datetime import datetime \n",
        "\n",
        "def save_model(model, dir_path, name):\n",
        "  # create checkpints folder\n",
        "  checkpoint_folder = os.path.join(dir_path, 'checkpoints')\n",
        "  os.makedirs(checkpoint_folder, exist_ok=True)\n",
        "  # save model\n",
        "  curr_datetime = datetime.now().strftime(\"%y_%m_%d_%H:%M:%S\")\n",
        "  model_name = f'{curr_datetime}'.replace(':', '_')\n",
        "  model_name = name + '_' + model_name\n",
        "  \n",
        "  ckpt_path = os.path.join(checkpoint_folder, f'{model_name}.ckpt')\n",
        "  torch.save({\n",
        "    'model_state_dict': model.state_dict(),\n",
        "  }, ckpt_path)\n",
        "\n",
        "  print(f'model saved to \"{ckpt_path}\"')"
      ]
    },
    {
      "cell_type": "code",
      "execution_count": null,
      "metadata": {
        "id": "BP4b4e5gcQGF"
      },
      "outputs": [],
      "source": [
        "# all SNR\n",
        "save_model(model_allSNR, drive_path, 'allSNR_CNN1_AMC_3_epochs')\n",
        "# High SNR\n",
        "save_model(model_highSNR, drive_path, 'highSNRSnr_CNN1_AMC_3_epochs')\n",
        "# medium SNR\n",
        "save_model(model_medSNR, drive_path, 'medSNR_CNN1_AMC_3_epochs')\n",
        "# low SNR \n",
        "save_model(model_lowSNR, drive_path, 'lowSNR_CNN1_AMC_3_epochs')\n",
        "# SEN model\n",
        "save_model(sen_model, drive_path, 'SEN_CNN1_3_epochs')"
      ]
    },
    {
      "cell_type": "markdown",
      "metadata": {
        "id": "g3nDa-e5cSz4"
      },
      "source": [
        "# Test"
      ]
    },
    {
      "cell_type": "markdown",
      "metadata": {
        "id": "uITW8fngcU15"
      },
      "source": [
        "## Overall Accuracy"
      ]
    },
    {
      "cell_type": "markdown",
      "metadata": {
        "id": "gNHaH2AnTj8Z"
      },
      "source": [
        "### All SNR"
      ]
    },
    {
      "cell_type": "code",
      "execution_count": null,
      "metadata": {
        "id": "x5Qncp6tTmOI"
      },
      "outputs": [],
      "source": [
        "acc = compute_accuracy(model=model_allSNR, data=test, le=le)\n",
        "print(\"Overall Testing Accuracy: {:.4f}\".format(acc))"
      ]
    },
    {
      "cell_type": "markdown",
      "metadata": {
        "id": "oR3rgMG7ToVY"
      },
      "source": [
        "### High SNR"
      ]
    },
    {
      "cell_type": "code",
      "execution_count": null,
      "metadata": {
        "id": "BAz4mJ1ZTqOH"
      },
      "outputs": [],
      "source": [
        "acc = compute_accuracy(model=model_highSNR, data=test_high_snr, le=le)\n",
        "print(\"Overall Testing Accuracy: {:.4f}\".format(acc))"
      ]
    },
    {
      "cell_type": "markdown",
      "metadata": {
        "id": "zXXIvrmqTuP2"
      },
      "source": [
        "### Medium SNR"
      ]
    },
    {
      "cell_type": "code",
      "execution_count": null,
      "metadata": {
        "id": "5UDkYzQpTuzb"
      },
      "outputs": [],
      "source": [
        "acc = compute_accuracy(model=model_medSNR, data=test_med_snr, le=le)\n",
        "print(\"Overall Testing Accuracy: {:.4f}\".format(acc))"
      ]
    },
    {
      "cell_type": "markdown",
      "metadata": {
        "id": "IexBYLc8Tx2m"
      },
      "source": [
        "### Low SNR"
      ]
    },
    {
      "cell_type": "code",
      "execution_count": null,
      "metadata": {
        "id": "Hdso8MZ4T0Mf"
      },
      "outputs": [],
      "source": [
        "acc = compute_accuracy(model=model_lowSNR, data=test_low_snr, le=le)\n",
        "print(\"Overall Testing Accuracy: {:.4f}\".format(acc))"
      ]
    },
    {
      "cell_type": "markdown",
      "source": [
        "### SEN"
      ],
      "metadata": {
        "id": "vqPdHiWyHZ_m"
      }
    },
    {
      "cell_type": "code",
      "source": [
        "sen_acc = compute_accuracy(model=sen_model, data=test, le=snr_enc)\n",
        "print(\"Overall Testing Accuracy: {:.4f}\".format(sen_acc))"
      ],
      "metadata": {
        "id": "UP0IAvf8HeFw"
      },
      "execution_count": null,
      "outputs": []
    },
    {
      "cell_type": "markdown",
      "metadata": {
        "id": "mefLcT5JT8Ta"
      },
      "source": [
        "## Accuracy vs SNR"
      ]
    },
    {
      "cell_type": "markdown",
      "metadata": {
        "id": "KkZHFfNtT_kg"
      },
      "source": [
        "### All SNR"
      ]
    },
    {
      "cell_type": "code",
      "execution_count": null,
      "metadata": {
        "id": "0_k7QhZqcJ3z"
      },
      "outputs": [],
      "source": [
        "acc_vs_snr, snr = compute_accuracy_on_cross_sections(model=model_allSNR,\n",
        "                                                     data=test,\n",
        "                                                     le=le,\n",
        "                                                     column=\"SNR\")\n",
        "\n",
        "title = \"All SNR : Accuracy vs SNR of {model_name} on {dataset_name}\".format(model_name=\"CNN1\", dataset_name=\"RML2016.10B\")\n",
        "fig = plot_acc_vs_snr(acc_vs_snr=acc_vs_snr, snr=snr, title=title)\n",
        "if fig_dir is not None:\n",
        "    file_path = \"{fig_dir}/acc_vs_snr.pdf\"\n",
        "    print(\"Saving Figure -> {file_path}\".format(file_path=file_path))\n",
        "    fig.savefig(file_path, format=\"pdf\", transparent=True)\n",
        "plt.show()"
      ]
    },
    {
      "cell_type": "markdown",
      "metadata": {
        "id": "ysb3LhGxUEF3"
      },
      "source": [
        "### High SNR"
      ]
    },
    {
      "cell_type": "code",
      "execution_count": null,
      "metadata": {
        "id": "kTHiLC93UFwR"
      },
      "outputs": [],
      "source": [
        "acc_vs_snr, snr = compute_accuracy_on_cross_sections(model=model_highSNR,\n",
        "                                                     data=test_high_snr,\n",
        "                                                     le=le,\n",
        "                                                     column=\"SNR\")\n",
        "\n",
        "title = \"High SNR : Accuracy vs SNR of {model_name} on {dataset_name}\".format(model_name=\"CNN1\", dataset_name=\"RML2016.10B\")\n",
        "fig = plot_acc_vs_snr(acc_vs_snr=acc_vs_snr, snr=snr, title=title)\n",
        "if fig_dir is not None:\n",
        "    file_path = \"{fig_dir}/highSNR_acc_vs_snr.pdf\"\n",
        "    print(\"Saving Figure -> {file_path}\".format(file_path=file_path))\n",
        "    fig.savefig(file_path, format=\"pdf\", transparent=True)\n",
        "plt.show()\n"
      ]
    },
    {
      "cell_type": "markdown",
      "metadata": {
        "id": "dPawaXbhUKn7"
      },
      "source": [
        "### Medium SNR"
      ]
    },
    {
      "cell_type": "code",
      "execution_count": null,
      "metadata": {
        "id": "aVWQITBRUJID"
      },
      "outputs": [],
      "source": [
        "acc_vs_snr, snr = compute_accuracy_on_cross_sections(model=model_medSNR,\n",
        "                                                     data=test_med_snr,\n",
        "                                                     le=le,\n",
        "                                                     column=\"SNR\")\n",
        "\n",
        "title = \"Medium SNR : Accuracy vs SNR of {model_name} on {dataset_name}\".format(model_name=\"CNN1\", dataset_name=\"RML2016.10B\")\n",
        "fig = plot_acc_vs_snr(acc_vs_snr=acc_vs_snr, snr=snr, title=title)\n",
        "if fig_dir is not None:\n",
        "    file_path = \"{fig_dir}/medSNR_acc_vs_snr.pdf\"\n",
        "    print(\"Saving Figure -> {file_path}\".format(file_path=file_path))\n",
        "    fig.savefig(file_path, format=\"pdf\", transparent=True)\n",
        "plt.show()"
      ]
    },
    {
      "cell_type": "markdown",
      "metadata": {
        "id": "LOawvtRBUNOE"
      },
      "source": [
        "### Low SNR"
      ]
    },
    {
      "cell_type": "code",
      "execution_count": null,
      "metadata": {
        "id": "QjWOmEukUT4W"
      },
      "outputs": [],
      "source": [
        "acc_vs_snr, snr = compute_accuracy_on_cross_sections(model=model_lowSNR,\n",
        "                                                     data=test_low_snr,\n",
        "                                                     le=le,\n",
        "                                                     column=\"SNR\")\n",
        "\n",
        "title = \"Low SNR : Accuracy vs SNR of {model_name} on {dataset_name}\".format(model_name=\"CNN1\", dataset_name=\"RML2016.10B\")\n",
        "fig = plot_acc_vs_snr(acc_vs_snr=acc_vs_snr, snr=snr, title=title)\n",
        "if fig_dir is not None:\n",
        "    file_path = \"{fig_dir}/lowSNR_acc_vs_snr.pdf\"\n",
        "    print(\"Saving Figure -> {file_path}\".format(file_path=file_path))\n",
        "    fig.savefig(file_path, format=\"pdf\", transparent=True)\n",
        "plt.show()"
      ]
    },
    {
      "cell_type": "markdown",
      "metadata": {
        "id": "0Y7Q6DOicbgw"
      },
      "source": [
        "## Confusion matrix"
      ]
    },
    {
      "cell_type": "markdown",
      "metadata": {
        "id": "acbbuSKCUXAS"
      },
      "source": [
        "### All SNR"
      ]
    },
    {
      "cell_type": "code",
      "execution_count": null,
      "metadata": {
        "id": "YkwC8xKscb0_"
      },
      "outputs": [],
      "source": [
        "cmn = compute_confusion(model=model_allSNR, data=test, le=le)\n",
        "\n",
        "title = \"All SNR : Confusion Matrix of {model_name} on {dataset_name}\".format(model_name=\"CNN1\", dataset_name=\"RML2016.10B\")\n",
        "fig = plot_confusion(cm=cmn, labels=le.labels, title=title)\n",
        "if fig_dir is not None:\n",
        "    file_path = \"{fig_dir}/allSNR_confusion_matrix.pdf\"\n",
        "    print(\"Saving Figure -> {file_path}\".format(file_path=file_path))\n",
        "    fig.savefig(file_path, format=\"pdf\", transparent=True)\n",
        "plt.show()"
      ]
    },
    {
      "cell_type": "markdown",
      "metadata": {
        "id": "t1EtK6tdUbZj"
      },
      "source": [
        "### High SNR"
      ]
    },
    {
      "cell_type": "code",
      "execution_count": null,
      "metadata": {
        "id": "7OXTEirBUdqL"
      },
      "outputs": [],
      "source": [
        "cmn = compute_confusion(model=model_highSNR, data=test_high_snr, le=le)\n",
        "\n",
        "title = \"High SNR : Confusion Matrix of {model_name} on {dataset_name}\".format(model_name=\"CNN1\", dataset_name=\"RML2016.10B\")\n",
        "fig = plot_confusion(cm=cmn, labels=le.labels, title=title)\n",
        "if fig_dir is not None:\n",
        "    file_path = \"{fig_dir}/highSNR_confusion_matrix.pdf\"\n",
        "    print(\"Saving Figure -> {file_path}\".format(file_path=file_path))\n",
        "    fig.savefig(file_path, format=\"pdf\", transparent=True)\n",
        "plt.show()"
      ]
    },
    {
      "cell_type": "markdown",
      "metadata": {
        "id": "Nl3Gv-KAUia_"
      },
      "source": [
        "### Medium SNR"
      ]
    },
    {
      "cell_type": "code",
      "execution_count": null,
      "metadata": {
        "id": "KzdThOQ4UkT8"
      },
      "outputs": [],
      "source": [
        "cmn = compute_confusion(model=model_medSNR, data=test_med_snr, le=le)\n",
        "\n",
        "title = \"Medium SNR : Confusion Matrix of {model_name} on {dataset_name}\".format(model_name=\"CNN1\", dataset_name=\"RML2016.10B\")\n",
        "fig = plot_confusion(cm=cmn, labels=le.labels, title=title)\n",
        "if fig_dir is not None:\n",
        "    file_path = \"{fig_dir}/medSNR_confusion_matrix.pdf\"\n",
        "    print(\"Saving Figure -> {file_path}\".format(file_path=file_path))\n",
        "    fig.savefig(file_path, format=\"pdf\", transparent=True)\n",
        "plt.show()"
      ]
    },
    {
      "cell_type": "markdown",
      "metadata": {
        "id": "YjbbWznOUmo4"
      },
      "source": [
        "### Low SNR"
      ]
    },
    {
      "cell_type": "code",
      "execution_count": null,
      "metadata": {
        "id": "MdSf52hpUoON"
      },
      "outputs": [],
      "source": [
        "cmn = compute_confusion(model=model_lowSNR, data=test_low_snr, le=le)\n",
        "\n",
        "title = \"Low SNR : Confusion Matrix of {model_name} on {dataset_name}\".format(model_name=\"CNN1\", dataset_name=\"RML2016.10B\")\n",
        "fig = plot_confusion(cm=cmn, labels=le.labels, title=title)\n",
        "if fig_dir is not None:\n",
        "    file_path = \"{fig_dir}/lowSNR_confusion_matrix.pdf\"\n",
        "    print(\"Saving Figure -> {file_path}\".format(file_path=file_path))\n",
        "    fig.savefig(file_path, format=\"pdf\", transparent=True)\n",
        "plt.show()"
      ]
    },
    {
      "cell_type": "markdown",
      "source": [
        "### SEN"
      ],
      "metadata": {
        "id": "UdbQUHHFHlPk"
      }
    },
    {
      "cell_type": "code",
      "source": [
        "sen_cmn = compute_confusion(model=sen_model, data=test, le=snr_enc)\n",
        "title = \"Confusion Matrix of {model_name} on {dataset_name}\".format(model_name=\"SEN\", dataset_name=\"RML2016.10B\")\n",
        "fig = plot_confusion(cm=sen_cmn, labels=snr_enc.labels, title=title)\n",
        "if fig_dir is not None:\n",
        "    file_path = \"{fig_dir}/sen_confusion_matrix.pdf\"\n",
        "    print(\"Saving Figure -> {file_path}\".format(file_path=file_path))\n",
        "    fig.savefig(file_path, format=\"pdf\", transparent=True)\n",
        "\n",
        "plt.show()"
      ],
      "metadata": {
        "id": "c8NYkoeVHnpU"
      },
      "execution_count": null,
      "outputs": []
    },
    {
      "cell_type": "markdown",
      "metadata": {
        "id": "hA5VL_ZUEBBP"
      },
      "source": [
        "# Test Cascaded Models"
      ]
    },
    {
      "cell_type": "markdown",
      "metadata": {
        "id": "yMNQmwQdEAS7"
      },
      "source": [
        "## Compute Accuracy"
      ]
    },
    {
      "cell_type": "code",
      "execution_count": null,
      "metadata": {
        "id": "6jlssNuWEGAy"
      },
      "outputs": [],
      "source": [
        "import pandas as pd\n",
        "\n",
        "def compute_cascaded_sen_amc_accuracy(\n",
        "    sen_model: Model,\n",
        "    high_snr_model: Model,\n",
        "    med_snr_model: Model,\n",
        "    low_snr_model: Model,\n",
        "    data: Dataset,\n",
        "    le: Encoder,\n",
        "    batch_size: int = 512,\n",
        "    mask: pd.DataFrame.mask = None,\n",
        ") -> float:\n",
        "    \"\"\"Compute the Top-1 accuracy of this cascading SEN & AMC Models\n",
        "\n",
        "    Args:\n",
        "        senModel (senModel): (Trained) SEN model.\n",
        "        highSNRModel (highSNRModel): (Trained) model to on high SNR.\n",
        "        medSNRModel (medSNRModel): (Trained) model to on high SNR.\n",
        "        lowSNRModel (lowSNRModel): (Trained) model to on high SNR.\n",
        "        data (Dataset): (Testing) data to use for evaluation.\n",
        "        le (Encoder): Mapping from human readable to machine readable.\n",
        "        batch_size (int, optional): Defaults to 512.\n",
        "        mask (pd.DataFrame.mask, optional): Mask to apply to the data before computing\n",
        "                                            accuracy.  Defaults to None.\n",
        "\n",
        "    Returns:\n",
        "        float: Top-1 Accuracy - All SNR\n",
        "        float: Top-1 Accuracy - High SNR\n",
        "        float: Top-1 Accuracy - Med SNR\n",
        "        float: Top-1 Accuracy - Low SNR\n",
        "        \n",
        "    \"\"\"\n",
        "    \n",
        "    dl = DataLoader(\n",
        "        data.as_torch(le=le, mask=mask), shuffle=True, batch_size=batch_size\n",
        "    )\n",
        "\n",
        "    rightLowSNR = 0\n",
        "    rightMedSNR = 0\n",
        "    rightHighSNR = 0\n",
        "    \n",
        "    nExamplesLowSNR = 0\n",
        "    nExamplesMedSNR = 0\n",
        "    nExamplesHighSNR = 0\n",
        "\n",
        "    for _, data in enumerate(dl):\n",
        "        inputs, labels = data\n",
        "        # SNR estimation\n",
        "        snr_predictions = sen_model.predict(inputs)\n",
        "        # Divide according to SNR Estimation\n",
        "        low_snr_indx =  (snr_predictions == 0).nonzero(as_tuple=True)[0]\n",
        "        med_snr_indx =  (snr_predictions == 1).nonzero(as_tuple=True)[0]\n",
        "        high_snr_indx = (snr_predictions == 2).nonzero(as_tuple=True)[0]\n",
        "        \n",
        "        if(len(low_snr_indx) > 0):\n",
        "          low_snr_inputs  = inputs[low_snr_indx,  :, :, :]\n",
        "          low_snr_labels =  labels[low_snr_indx]\n",
        "          low_snr_pred =  low_snr_model.predict(low_snr_inputs)\n",
        "          rightLowSNR += (low_snr_pred == low_snr_labels).sum().item()\n",
        "          nExamplesLowSNR += len(low_snr_labels)\n",
        "\n",
        "        if(len(med_snr_indx) > 0):  \n",
        "          med_snr_inputs  = inputs[med_snr_indx,  :, :, :]\n",
        "          med_snr_labels =  labels[med_snr_indx]\n",
        "          med_snr_pred =  med_snr_model.predict(med_snr_inputs)\n",
        "          rightMedSNR += (med_snr_pred == med_snr_labels).sum().item()\n",
        "          nExamplesMedSNR += len(med_snr_labels)\n",
        "\n",
        "        if(len(high_snr_indx) > 0):\n",
        "          high_snr_inputs = inputs[high_snr_indx, :, :, :]\n",
        "          high_snr_labels = labels[high_snr_indx]\n",
        "          high_snr_pred = high_snr_model.predict(high_snr_inputs)\n",
        "          rightHighSNR += (high_snr_pred == high_snr_labels).sum().item()\n",
        "          nExamplesHighSNR += len(high_snr_labels)\n",
        "    \n",
        "    accLow = float(rightLowSNR) / nExamplesLowSNR\n",
        "    accMed = float(rightMedSNR) / nExamplesMedSNR\n",
        "    accHigh = float(rightHighSNR) / nExamplesHighSNR\n",
        "    \n",
        "    totalRight = rightLowSNR + rightMedSNR + rightHighSNR\n",
        "    nTotalExamples = nExamplesLowSNR + nExamplesMedSNR + nExamplesHighSNR\n",
        "    accAll = float(totalRight) / nTotalExamples\n",
        "    \n",
        "    return accAll, accHigh, accMed, accLow"
      ]
    },
    {
      "cell_type": "code",
      "execution_count": null,
      "metadata": {
        "id": "79ua5WMREn1t"
      },
      "outputs": [],
      "source": [
        "accAll, accHigh, accMed, accLow = compute_cascaded_sen_amc_accuracy(sen_model=sen_model, \n",
        "                                                                    high_snr_model = model_highSNR,\n",
        "                                                                    med_snr_model = model_medSNR,\n",
        "                                                                    low_snr_model = model_lowSNR,\n",
        "                                                                    data=test, le=le)\n",
        "print('ACC LOW : ', accLow)\n",
        "print('ACC MED : ', accMed)\n",
        "print('ACC HIGH : ', accHigh)\n",
        "print('ACC ALL : ', accAll)"
      ]
    },
    {
      "cell_type": "markdown",
      "metadata": {
        "id": "pYtt_r4zEsFK"
      },
      "source": [
        "## Confusion Matrix"
      ]
    },
    {
      "cell_type": "code",
      "execution_count": null,
      "metadata": {
        "id": "vbq32aSPEuJ3"
      },
      "outputs": [],
      "source": [
        "\n",
        "# External Includes\n",
        "import numpy as np\n",
        "import pandas as pd\n",
        "from torch.utils.data import DataLoader\n",
        "from typing import List, Tuple\n",
        "\n",
        "def compute_cascadedModel_confusion(\n",
        "    sen_model: Model,\n",
        "    high_snr_model: Model,\n",
        "    med_snr_model: Model,\n",
        "    low_snr_model: Model,\n",
        "    data: Dataset,\n",
        "    le: Encoder,\n",
        "    batch_size: int = 512,\n",
        "    mask: pd.DataFrame.mask = None,\n",
        ") -> np.ndarray:\n",
        "   \n",
        "    predictions, labels = _extract_cascaded_model_predictions_and_labels(sen_model=sen_model, high_snr_model=high_snr_model,\n",
        "                                                                         med_snr_model=med_snr_model, low_snr_model=low_snr_model,\n",
        "                                                                         data=data, le=le, batch_size=batch_size, mask=mask)\n",
        "    return _confusion_matrix(predictions=predictions, labels=labels, le=le)\n",
        "\n",
        "\n",
        "def _confusion_matrix(\n",
        "    predictions: List[int], labels: List[int], le: Encoder\n",
        ") -> np.ndarray:\n",
        "    # Note: This could be replaced with sklearn.metrics.confusion_matrix\n",
        "    # It is simply rewritten in order to avoid introducing a dependency for one thing\n",
        "    confusion_matrix = np.zeros([len(le.labels), len(le.labels)])\n",
        "\n",
        "    # Compute the total number of predictions\n",
        "    for predicted_label, true_label in zip(predictions, labels):\n",
        "        confusion_matrix[true_label, predicted_label] = (\n",
        "            confusion_matrix[true_label, predicted_label] + 1.0\n",
        "        )\n",
        "\n",
        "    # Normalize these predictions to be a percentage\n",
        "    for true_label in range(confusion_matrix.shape[0]):\n",
        "        # Avoid a divide by zero case, no guarantee that we are calling this method\n",
        "        # with data for all of the classes that could be predicted\n",
        "        total = np.sum(confusion_matrix[true_label, :])\n",
        "\n",
        "        if total == 0:\n",
        "            confusion_matrix[true_label, :] = 0.0\n",
        "        else:\n",
        "            confusion_matrix[true_label, :] = confusion_matrix[true_label, :] / total\n",
        "\n",
        "    return confusion_matrix\n",
        "\n",
        "\n",
        "def _extract_cascaded_model_predictions_and_labels(\n",
        "    sen_model: Model,\n",
        "    high_snr_model: Model,\n",
        "    med_snr_model: Model,\n",
        "    low_snr_model: Model,\n",
        "    data: Dataset,\n",
        "    le: Encoder,\n",
        "    batch_size: int = 512,\n",
        "    mask: pd.DataFrame.mask = None,\n",
        ") -> Tuple[List[int], List[int]]:\n",
        "    ret_predictions, ret_labels = list(), list()\n",
        "    dl = DataLoader(\n",
        "        data.as_torch(le=le, mask=mask), shuffle=True, batch_size=batch_size\n",
        "    )\n",
        "\n",
        "    for _, data in enumerate(dl):\n",
        "        inputs, labels = data\n",
        "\n",
        "        # SNR estimation\n",
        "        snr_predictions = sen_model.predict(inputs)\n",
        "        # Divide according to SNR Estimation\n",
        "        low_snr_indx =  (snr_predictions == 0).nonzero(as_tuple=True)[0]\n",
        "        med_snr_indx =  (snr_predictions == 1).nonzero(as_tuple=True)[0]\n",
        "        high_snr_indx = (snr_predictions == 2).nonzero(as_tuple=True)[0]\n",
        "        \n",
        "        if(len(low_snr_indx) > 0):\n",
        "          low_snr_inputs  = inputs[low_snr_indx,  :, :, :]\n",
        "          low_snr_pred =  low_snr_model.predict(low_snr_inputs)\n",
        "\n",
        "        if(len(med_snr_indx) > 0):  \n",
        "          med_snr_inputs  = inputs[med_snr_indx,  :, :, :]\n",
        "          med_snr_pred =  med_snr_model.predict(med_snr_inputs)\n",
        "\n",
        "        if(len(high_snr_indx) > 0):\n",
        "          high_snr_inputs = inputs[high_snr_indx, :, :, :]\n",
        "          high_snr_pred = high_snr_model.predict(high_snr_inputs)\n",
        "\n",
        "        # Merge all predictions\n",
        "        predictions = torch.tensor(np.zeros(batch_size, dtype=int))\n",
        "        predictions[low_snr_indx]  = low_snr_pred\n",
        "        predictions[med_snr_indx]  = med_snr_pred\n",
        "        predictions[high_snr_indx] = high_snr_pred\n",
        "\n",
        "        ret_predictions.extend(predictions)\n",
        "        ret_labels.extend(labels)\n",
        "\n",
        "    return ret_predictions, ret_labels\n"
      ]
    },
    {
      "cell_type": "code",
      "execution_count": null,
      "metadata": {
        "id": "dyRkiYLfEycX"
      },
      "outputs": [],
      "source": [
        "cmn = compute_cascadedModel_confusion(sen_model=sen_model, high_snr_model = model_highSNR,\n",
        "                                      med_snr_model = model_medSNR, low_snr_model = model_lowSNR,\n",
        "                                      data=test, le=le)\n",
        "\n",
        "title = \"Cascaded SEN-AMC Confusion Matrix of {model_name} on {dataset_name}\".format(model_name=\"CNN1\", dataset_name=\"RML2016.10B\")\n",
        "fig = plot_confusion(cm=cmn, labels=le.labels, title=title)\n",
        "plt.show()"
      ]
    }
  ],
  "metadata": {
    "accelerator": "GPU",
    "colab": {
      "collapsed_sections": [],
      "name": "Copy of Ex1.ipynb",
      "provenance": [],
      "toc_visible": true
    },
    "gpuClass": "standard",
    "kernelspec": {
      "display_name": "Python 3",
      "name": "python3"
    },
    "language_info": {
      "name": "python"
    }
  },
  "nbformat": 4,
  "nbformat_minor": 0
}