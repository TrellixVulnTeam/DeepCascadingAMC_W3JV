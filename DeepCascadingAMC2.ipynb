{
  "nbformat": 4,
  "nbformat_minor": 0,
  "metadata": {
    "colab": {
      "name": "DeepCascadingAMC2.ipynb",
      "provenance": [],
      "collapsed_sections": [],
      "toc_visible": true,
      "authorship_tag": "ABX9TyOFYgpVPPs+J1sOVgLenWzb",
      "include_colab_link": true
    },
    "kernelspec": {
      "name": "python3",
      "display_name": "Python 3"
    },
    "language_info": {
      "name": "python"
    }
  },
  "cells": [
    {
      "cell_type": "markdown",
      "metadata": {
        "id": "view-in-github",
        "colab_type": "text"
      },
      "source": [
        "<a href=\"https://colab.research.google.com/github/YairYarden/DeepCascadingAMC/blob/feature%2Fnew_code_using_classes/DeepCascadingAMC2.ipynb\" target=\"_parent\"><img src=\"https://colab.research.google.com/assets/colab-badge.svg\" alt=\"Open In Colab\"/></a>"
      ]
    },
    {
      "cell_type": "markdown",
      "source": [
        "# Mount Google Drive"
      ],
      "metadata": {
        "id": "vujc74yeVIlX"
      }
    },
    {
      "cell_type": "code",
      "execution_count": null,
      "metadata": {
        "id": "ec_Zb3FBQZhf",
        "colab": {
          "base_uri": "https://localhost:8080/"
        },
        "outputId": "f12d294b-c48f-41cb-8761-5fede1f2773c"
      },
      "outputs": [
        {
          "output_type": "stream",
          "name": "stdout",
          "text": [
            "Mounted at /content/drive/\n"
          ]
        }
      ],
      "source": [
        "# Mount google drive\n",
        "from google.colab import drive\n",
        "drive.mount('/content/drive/')"
      ]
    },
    {
      "cell_type": "markdown",
      "source": [
        "# Chose Device"
      ],
      "metadata": {
        "id": "owsrS22mcq-B"
      }
    },
    {
      "cell_type": "code",
      "source": [
        "# check if CUDA is available\n",
        "import torch\n",
        "is_gpu_available = torch.cuda.is_available()\n",
        "\n",
        "if not is_gpu_available:\n",
        "    print('CUDA is not available.  Training on CPU ...')\n",
        "else:\n",
        "    print('CUDA is available!  Training on GPU ...')\n",
        "\n",
        "DEVICE = 'cuda' if torch.cuda.is_available() else 'cpu'"
      ],
      "metadata": {
        "colab": {
          "base_uri": "https://localhost:8080/"
        },
        "id": "_LwiyFZ0cqZO",
        "outputId": "06e4f77a-78e9-4b5c-8e03-ec8dda7e7eb1"
      },
      "execution_count": 32,
      "outputs": [
        {
          "output_type": "stream",
          "name": "stdout",
          "text": [
            "CUDA is not available.  Training on CPU ...\n"
          ]
        }
      ]
    },
    {
      "cell_type": "markdown",
      "source": [
        "# Load Python Files"
      ],
      "metadata": {
        "id": "ThJQOII5VL0N"
      }
    },
    {
      "cell_type": "code",
      "source": [
        "# Load files \n",
        "from google.colab import files\n",
        "\n",
        "# Dataset Classes\n",
        "!cp /content/drive/MyDrive/deep_learning_project/Code/AMC_classes/data/encoder.py /content\n",
        "!cp /content/drive/MyDrive/deep_learning_project/Code/AMC_classes/data/dataset.py /content\n",
        "!cp /content/drive/MyDrive/deep_learning_project/Code/AMC_classes/data/dataset_builder.py /content\n",
        "!cp /content/drive/MyDrive/deep_learning_project/Code/AMC_classes/data/rml_2016.py /content\n",
        "\n",
        "# Utils Classes\n",
        "!cp /content/drive/MyDrive/deep_learning_project/Code/AMC_classes/utils/plot.py /content\n",
        "\n",
        "# Training Classes\n",
        "!cp /content/drive/MyDrive/deep_learning_project/Code/AMC_classes/training/accuracy.py /content\n",
        "!cp /content/drive/MyDrive/deep_learning_project/Code/AMC_classes/training/confusion.py /content\n"
      ],
      "metadata": {
        "id": "DGuzRwnxQ8sk"
      },
      "execution_count": 13,
      "outputs": []
    },
    {
      "cell_type": "markdown",
      "source": [
        "# Import Functions & Classes"
      ],
      "metadata": {
        "id": "pl-c0EUpV3qv"
      }
    },
    {
      "cell_type": "code",
      "source": [
        "# Plotting Includes\n",
        "import matplotlib.pyplot as plt\n",
        "import seaborn as sns\n",
        "sns.set_style(\"whitegrid\")\n",
        "\n",
        "# External Includes\n",
        "import numpy as np\n",
        "from pprint import pprint\n",
        "\n",
        "from torch.autograd import Variable\n",
        "import torch.nn as nn\n",
        "from torch.optim import Adam\n",
        "from torch.utils.data import DataLoader\n",
        "\n",
        "# Internal Includes\n",
        "# Data\n",
        "from dataset import Dataset\n",
        "from encoder import Encoder\n",
        "from rml_2016 import load_RML201610B_dataset\n",
        "\n",
        "# Utils\n",
        "from plot import plot_acc_vs_snr, plot_confusion, plot_convergence, plot_IQ\n",
        "\n",
        "# Training\n",
        "from accuracy import compute_accuracy, compute_accuracy_on_cross_sections\n",
        "from confusion import compute_confusion\n",
        "from base import Model"
      ],
      "metadata": {
        "id": "J_8aS4ESR4Il"
      },
      "execution_count": 15,
      "outputs": []
    },
    {
      "cell_type": "markdown",
      "source": [
        "# Load Dataset"
      ],
      "metadata": {
        "id": "7TddsjLiWNJu"
      }
    },
    {
      "cell_type": "markdown",
      "source": [
        "## Load "
      ],
      "metadata": {
        "id": "HdRC1fIzacn0"
      }
    },
    {
      "cell_type": "code",
      "source": [
        "# Load\n",
        "import os\n",
        "drive_path = '/content/drive/MyDrive/deep_learning_project'\n",
        "data_path = os.path.join(drive_path, 'RadioML2016_b/RML2016.10b.dat')\n",
        "dataset = load_RML201610B_dataset(path=data_path)\n",
        "\n",
        "# Print\n",
        "print(len(dataset))\n",
        "pprint(dataset.get_examples_per_class())"
      ],
      "metadata": {
        "id": "An_9A3LMTS0i"
      },
      "execution_count": 16,
      "outputs": []
    },
    {
      "cell_type": "markdown",
      "source": [
        "## Split to Train - Val - Test"
      ],
      "metadata": {
        "id": "jZUmU5OYafLD"
      }
    },
    {
      "cell_type": "code",
      "source": [
        "train, test = dataset.split(frac=0.3, on=[\"Modulation\", \"SNR\"])\n",
        "train, val = train.split(frac=0.05, on=[\"Modulation\", \"SNR\"])\n",
        "\n",
        "print(\"Training Examples\")\n",
        "print(\"=================\")\n",
        "pprint(train.get_examples_per_class())\n",
        "print(\"=================\")\n",
        "print()\n",
        "print(\"Validation Examples\")\n",
        "print(\"=================\")\n",
        "pprint(val.get_examples_per_class())\n",
        "print(\"=================\")\n",
        "print()\n",
        "print(\"Testing Examples\")\n",
        "print(\"=================\")\n",
        "pprint(test.get_examples_per_class())\n",
        "print(\"=================\")"
      ],
      "metadata": {
        "id": "NPNSzj0VRgtL",
        "colab": {
          "base_uri": "https://localhost:8080/"
        },
        "outputId": "c09195f3-8219-4cf9-e6d0-e69784edb1f0"
      },
      "execution_count": 18,
      "outputs": [
        {
          "output_type": "stream",
          "name": "stdout",
          "text": [
            "Training Examples\n",
            "=================\n",
            "{'8PSK': 79780,\n",
            " 'AM-DSB': 79780,\n",
            " 'BPSK': 79780,\n",
            " 'CPFSK': 79780,\n",
            " 'GFSK': 79780,\n",
            " 'PAM4': 79780,\n",
            " 'QAM16': 79780,\n",
            " 'QAM64': 79780,\n",
            " 'QPSK': 79780,\n",
            " 'WBFM': 79780}\n",
            "=================\n",
            "\n",
            "Validation Examples\n",
            "=================\n",
            "{'8PSK': 4200,\n",
            " 'AM-DSB': 4200,\n",
            " 'BPSK': 4200,\n",
            " 'CPFSK': 4200,\n",
            " 'GFSK': 4200,\n",
            " 'PAM4': 4200,\n",
            " 'QAM16': 4200,\n",
            " 'QAM64': 4200,\n",
            " 'QPSK': 4200,\n",
            " 'WBFM': 4200}\n",
            "=================\n",
            "\n",
            "Testing Examples\n",
            "=================\n",
            "{'8PSK': 36020,\n",
            " 'AM-DSB': 36020,\n",
            " 'BPSK': 36020,\n",
            " 'CPFSK': 36020,\n",
            " 'GFSK': 36020,\n",
            " 'PAM4': 36020,\n",
            " 'QAM16': 36020,\n",
            " 'QAM64': 36020,\n",
            " 'QPSK': 36020,\n",
            " 'WBFM': 36020}\n",
            "=================\n"
          ]
        }
      ]
    },
    {
      "cell_type": "markdown",
      "source": [
        "## Labels encoder"
      ],
      "metadata": {
        "id": "6BHXQif0apXx"
      }
    },
    {
      "cell_type": "code",
      "source": [
        "le = Encoder([\"WBFM\",\n",
        "              \"AM-DSB\",\n",
        "              \"AM-SSB\",\n",
        "              \"CPFSK\",\n",
        "              \"GFSK\",\n",
        "              \"BPSK\",\n",
        "              \"QPSK\",\n",
        "              \"8PSK\",\n",
        "              \"PAM4\",\n",
        "              \"QAM16\",\n",
        "              \"QAM64\"],\n",
        "             label_name=\"Modulation\")\n",
        "print(le)"
      ],
      "metadata": {
        "colab": {
          "base_uri": "https://localhost:8080/"
        },
        "id": "w_gBNKePaqVY",
        "outputId": "2cb54604-5f80-4bab-b4cf-eeca7771a1f9"
      },
      "execution_count": 19,
      "outputs": [
        {
          "output_type": "stream",
          "name": "stdout",
          "text": [
            "WBFM: 0\n",
            "AM-DSB: 1\n",
            "AM-SSB: 2\n",
            "CPFSK: 3\n",
            "GFSK: 4\n",
            "BPSK: 5\n",
            "QPSK: 6\n",
            "8PSK: 7\n",
            "PAM4: 8\n",
            "QAM16: 9\n",
            "QAM64: 10\n",
            "\n"
          ]
        }
      ]
    },
    {
      "cell_type": "markdown",
      "source": [
        "## Plot Example"
      ],
      "metadata": {
        "id": "dNIq0GqLassk"
      }
    },
    {
      "cell_type": "code",
      "source": [
        "fig_dir = None\n",
        "# Plot a sample of the data\n",
        "# You can choose a different sample by changing\n",
        "idx = 10\n",
        "snr = 6.0\n",
        "modulation = \"CPFSK\"\n",
        "\n",
        "mask = (dataset.df[\"SNR\"] == snr) & (dataset.df[\"Modulation\"] == modulation)\n",
        "sample = dataset.as_numpy(mask=mask, le=le)[0][idx,0,:]\n",
        "t = np.arange(sample.shape[1])\n",
        "\n",
        "title = \"{modulation} Sample at {snr:.0f} dB SNR\".format(modulation=modulation, snr=snr)\n",
        "fig = plot_IQ(iq=sample, title=title)\n",
        "if fig_dir is not None:\n",
        "    file_path = \"{fig_dir}/{modulation}_{snr:.0f}dB_sample.pdf\".format(fig_dir=fig_dir,\n",
        "                                                                       modulation=modulation,\n",
        "                                                                       snr=snr)\n",
        "    print(\"Saving Figure -> {file_path}\".format(file_path=file_path))\n",
        "    fig.savefig(file_path, format=\"pdf\", transparent=True)\n",
        "plt.show()"
      ],
      "metadata": {
        "colab": {
          "base_uri": "https://localhost:8080/",
          "height": 350
        },
        "id": "kMZcZMB3at7T",
        "outputId": "033a60fa-e3a7-4b0f-ab09-e274f0136f6f"
      },
      "execution_count": 24,
      "outputs": [
        {
          "output_type": "display_data",
          "data": {
            "text/plain": [
              "<Figure size 720x360 with 1 Axes>"
            ],
            "image/png": "[encoded data removed]"
          },
          "metadata": {}
        }
      ]
    },
    {
      "cell_type": "markdown",
      "source": [
        "# Model"
      ],
      "metadata": {
        "id": "8t2GZe9gbOlV"
      }
    },
    {
      "cell_type": "code",
      "source": [
        "class MyCNN(Model):\n",
        "    def __init__(self, input_samples: int, n_classes: int):\n",
        "        super().__init__(input_samples=input_samples, n_classes=n_classes)\n",
        "        # Batch x 1-channel x IQ x input_samples\n",
        "        # Modifying the first convolutional layer to not use a bias term is a\n",
        "        # modification made by Bryse Flowers due to the observation of vanishing\n",
        "        # gradients during training when ported to PyTorch (other authors used\n",
        "        # Keras).\n",
        "        self.conv1 = nn.Conv2d(\n",
        "            in_channels=1,\n",
        "            out_channels=256,\n",
        "            kernel_size=(1, 7),\n",
        "            padding=(0, 3),\n",
        "            bias=False,\n",
        "        )\n",
        "        self.a1 = nn.ReLU()\n",
        "        self.n1 = nn.BatchNorm2d(256)\n",
        "\n",
        "        self.conv2 = nn.Conv2d(\n",
        "            in_channels=256,\n",
        "            out_channels=80,\n",
        "            kernel_size=(2, 7),\n",
        "            padding=(0, 3),\n",
        "            bias=True,\n",
        "        )\n",
        "        self.a2 = nn.ReLU()\n",
        "        self.n2 = nn.BatchNorm2d(80)\n",
        "\n",
        "        # Batch x Features\n",
        "        self.dense1 = nn.Linear(80 * 1 * input_samples, 256)\n",
        "        self.a3 = nn.ReLU()\n",
        "        self.n3 = nn.BatchNorm1d(256)\n",
        "\n",
        "        self.dense2 = nn.Linear(256, n_classes)\n",
        "\n",
        "    def forward(self, x):\n",
        "        x = self.conv1(x)\n",
        "        x = self.a1(x)\n",
        "        x = self.n1(x)\n",
        "\n",
        "        x = self.conv2(x)\n",
        "        x = self.a2(x)\n",
        "        x = self.n2(x)\n",
        "\n",
        "        # Flatten the input layer down to 1-d by using Tensor operations\n",
        "        x = x.contiguous()\n",
        "        x = x.view(x.size()[0], -1)\n",
        "\n",
        "        x = self.dense1(x)\n",
        "        x = self.a3(x)\n",
        "        x = self.n3(x)\n",
        "\n",
        "        x = self.dense2(x)\n",
        "\n",
        "        return x\n",
        "\n",
        "model = MyCNN(input_samples=128, n_classes=11)\n",
        "print(model)       "
      ],
      "metadata": {
        "colab": {
          "base_uri": "https://localhost:8080/"
        },
        "id": "gdwrzc34bQZ3",
        "outputId": "941c4879-9c02-4f10-f85f-703ca9a996a7"
      },
      "execution_count": 26,
      "outputs": [
        {
          "output_type": "stream",
          "name": "stdout",
          "text": [
            "MyCNN(\n",
            "  (conv1): Conv2d(1, 256, kernel_size=(1, 7), stride=(1, 1), padding=(0, 3), bias=False)\n",
            "  (a1): ReLU()\n",
            "  (n1): BatchNorm2d(256, eps=1e-05, momentum=0.1, affine=True, track_running_stats=True)\n",
            "  (conv2): Conv2d(256, 80, kernel_size=(2, 7), stride=(1, 1), padding=(0, 3))\n",
            "  (a2): ReLU()\n",
            "  (n2): BatchNorm2d(80, eps=1e-05, momentum=0.1, affine=True, track_running_stats=True)\n",
            "  (dense1): Linear(in_features=10240, out_features=256, bias=True)\n",
            "  (a3): ReLU()\n",
            "  (n3): BatchNorm1d(256, eps=1e-05, momentum=0.1, affine=True, track_running_stats=True)\n",
            "  (dense2): Linear(in_features=256, out_features=11, bias=True)\n",
            ")\n",
            "----------------------\n",
            "Trainable Parameters: 2914299\n",
            "Fixed Parameters: 0\n",
            "Total Parameters: 2914299\n",
            "----------------------\n",
            "\n"
          ]
        }
      ]
    },
    {
      "cell_type": "markdown",
      "source": [
        "# Training Functions"
      ],
      "metadata": {
        "id": "I4x8dz3bb2rI"
      }
    },
    {
      "cell_type": "code",
      "source": [
        "gpu = None\n",
        "class MyTrainingStrategy(object):\n",
        "\n",
        "    def __init__(self, lr: float = 10e-4, n_epochs: int = 3, gpu: bool = True):\n",
        "        self.lr = lr\n",
        "        self.n_epochs = n_epochs\n",
        "        self.gpu = gpu\n",
        "\n",
        "    def __repr__(self):\n",
        "        ret = self.__class__.__name__\n",
        "        ret += \"(lr={}, n_epochs={}, gpu={})\".format(self.lr, self.n_epochs, self.gpu)\n",
        "        return ret\n",
        "        \n",
        "    def __call__(\n",
        "        self, model: nn.Module, training: Dataset, validation: Dataset, le: Encoder\n",
        "    ):\n",
        "        criterion = nn.CrossEntropyLoss()\n",
        "\n",
        "        if self.gpu:\n",
        "            model.cuda()\n",
        "            criterion.cuda()\n",
        "\n",
        "        optimizer = Adam(model.parameters(), lr=self.lr)\n",
        "\n",
        "        train_data = DataLoader(\n",
        "            training.as_torch(le=le), shuffle=True, batch_size=512\n",
        "        )\n",
        "        val_data = DataLoader(\n",
        "            validation.as_torch(le=le), shuffle=True, batch_size=512\n",
        "        )\n",
        "\n",
        "        # Save two lists for plotting a convergence graph at the end\n",
        "        ret_train_loss = list()\n",
        "        ret_val_loss = list()\n",
        "        \n",
        "        for epoch in range(self.n_epochs):\n",
        "            train_loss = self._train_one_epoch(\n",
        "                model=model, data=train_data, loss_fn=criterion, optimizer=optimizer\n",
        "            )\n",
        "            print(\"On Epoch {} the training loss was {}\".format(epoch, train_loss))\n",
        "            ret_train_loss.append(train_loss)\n",
        "\n",
        "            val_loss = self._validate_once(\n",
        "                model=model, data=val_data, loss_fn=criterion\n",
        "            )\n",
        "            print(\"---- validation loss was {}\".format(val_loss))\n",
        "            ret_val_loss.append(val_loss)\n",
        "\n",
        "        return ret_train_loss, ret_val_loss\n",
        "\n",
        "    def _train_one_epoch(\n",
        "        self, model: nn.Module, data: DataLoader, loss_fn: nn.CrossEntropyLoss, optimizer: Adam\n",
        "    ) -> float:\n",
        "        total_loss = 0.0\n",
        "        # Switch the model mode so it remembers gradients, induces dropout, etc.\n",
        "        model.train()\n",
        "\n",
        "        for i, batch in enumerate(data):\n",
        "            x, y = batch\n",
        "\n",
        "            # Push data to GPU if necessary\n",
        "            if self.gpu:\n",
        "                x = Variable(x.cuda())\n",
        "                y = Variable(y.cuda())\n",
        "            else:\n",
        "                x = Variable(x)\n",
        "                y = Variable(y)\n",
        "\n",
        "            # Forward pass of prediction\n",
        "            outputs = model(x)\n",
        "\n",
        "            # Zero out the parameter gradients, because they are cumulative,\n",
        "            # compute loss, compute gradients (backward), update weights\n",
        "            loss = loss_fn(outputs, y)\n",
        "            optimizer.zero_grad()\n",
        "            loss.backward()\n",
        "            optimizer.step()\n",
        "\n",
        "            total_loss += loss.item()\n",
        "\n",
        "        mean_loss = total_loss / (i + 1.0)\n",
        "        return mean_loss\n",
        "\n",
        "    def _validate_once(\n",
        "        self, model: nn.Module, data: DataLoader, loss_fn: nn.CrossEntropyLoss\n",
        "    ) -> float:\n",
        "        total_loss = 0.0\n",
        "        # Switch the model back to test mode (so that batch norm/dropout doesn't\n",
        "        # take effect)\n",
        "        model.eval()\n",
        "        for i, batch in enumerate(data):\n",
        "            x, y = batch\n",
        "\n",
        "            if self.gpu:\n",
        "                x = x.cuda()\n",
        "                y = y.cuda()\n",
        "\n",
        "            outputs = model(x)\n",
        "            loss = loss_fn(outputs, y)\n",
        "            total_loss += loss.item()\n",
        "\n",
        "        mean_loss = total_loss / (i + 1.0)\n",
        "        return mean_loss"
      ],
      "metadata": {
        "id": "GO_3Qio5b3zH"
      },
      "execution_count": 29,
      "outputs": []
    },
    {
      "cell_type": "code",
      "source": [
        "trainer = MyTrainingStrategy(gpu=gpu)\n",
        "print(trainer)"
      ],
      "metadata": {
        "colab": {
          "base_uri": "https://localhost:8080/"
        },
        "id": "iVvCbvZJb6zq",
        "outputId": "b8727e75-a175-4c1d-9ef2-f7a08420d71f"
      },
      "execution_count": 30,
      "outputs": [
        {
          "output_type": "stream",
          "name": "stdout",
          "text": [
            "MyTrainingStrategy(lr=0.001, n_epochs=3, gpu=None)\n"
          ]
        }
      ]
    },
    {
      "cell_type": "markdown",
      "source": [
        "# Train the network"
      ],
      "metadata": {
        "id": "v2doFq6KcTFp"
      }
    },
    {
      "cell_type": "code",
      "source": [
        "train_loss, val_loss = trainer(model=model,\n",
        "                               training=train,\n",
        "                               validation=val,\n",
        "                               le=le)"
      ],
      "metadata": {
        "colab": {
          "base_uri": "https://localhost:8080/",
          "height": 378
        },
        "id": "tTo-DBQtcGqP",
        "outputId": "33fa3d5d-4c46-4898-83c8-d7a23e330841"
      },
      "execution_count": 31,
      "outputs": [
        {
          "output_type": "error",
          "ename": "KeyboardInterrupt",
          "evalue": "ignored",
          "traceback": [
            "\u001b[0;31m---------------------------------------------------------------------------\u001b[0m",
            "\u001b[0;31mKeyboardInterrupt\u001b[0m                         Traceback (most recent call last)",
            "\u001b[0;32m<ipython-input-31-4f2c01f81a25>\u001b[0m in \u001b[0;36m<module>\u001b[0;34m()\u001b[0m\n\u001b[1;32m      2\u001b[0m                                \u001b[0mtraining\u001b[0m\u001b[0;34m=\u001b[0m\u001b[0mtrain\u001b[0m\u001b[0;34m,\u001b[0m\u001b[0;34m\u001b[0m\u001b[0;34m\u001b[0m\u001b[0m\n\u001b[1;32m      3\u001b[0m                                \u001b[0mvalidation\u001b[0m\u001b[0;34m=\u001b[0m\u001b[0mval\u001b[0m\u001b[0;34m,\u001b[0m\u001b[0;34m\u001b[0m\u001b[0;34m\u001b[0m\u001b[0m\n\u001b[0;32m----> 4\u001b[0;31m                                le=le)\n\u001b[0m",
            "\u001b[0;32m<ipython-input-29-7ecddc285e16>\u001b[0m in \u001b[0;36m__call__\u001b[0;34m(self, model, training, validation, le)\u001b[0m\n\u001b[1;32m     36\u001b[0m         \u001b[0;32mfor\u001b[0m \u001b[0mepoch\u001b[0m \u001b[0;32min\u001b[0m \u001b[0mrange\u001b[0m\u001b[0;34m(\u001b[0m\u001b[0mself\u001b[0m\u001b[0;34m.\u001b[0m\u001b[0mn_epochs\u001b[0m\u001b[0;34m)\u001b[0m\u001b[0;34m:\u001b[0m\u001b[0;34m\u001b[0m\u001b[0;34m\u001b[0m\u001b[0m\n\u001b[1;32m     37\u001b[0m             train_loss = self._train_one_epoch(\n\u001b[0;32m---> 38\u001b[0;31m                 \u001b[0mmodel\u001b[0m\u001b[0;34m=\u001b[0m\u001b[0mmodel\u001b[0m\u001b[0;34m,\u001b[0m \u001b[0mdata\u001b[0m\u001b[0;34m=\u001b[0m\u001b[0mtrain_data\u001b[0m\u001b[0;34m,\u001b[0m \u001b[0mloss_fn\u001b[0m\u001b[0;34m=\u001b[0m\u001b[0mcriterion\u001b[0m\u001b[0;34m,\u001b[0m \u001b[0moptimizer\u001b[0m\u001b[0;34m=\u001b[0m\u001b[0moptimizer\u001b[0m\u001b[0;34m\u001b[0m\u001b[0;34m\u001b[0m\u001b[0m\n\u001b[0m\u001b[1;32m     39\u001b[0m             )\n\u001b[1;32m     40\u001b[0m             \u001b[0mprint\u001b[0m\u001b[0;34m(\u001b[0m\u001b[0;34m\"On Epoch {} the training loss was {}\"\u001b[0m\u001b[0;34m.\u001b[0m\u001b[0mformat\u001b[0m\u001b[0;34m(\u001b[0m\u001b[0mepoch\u001b[0m\u001b[0;34m,\u001b[0m \u001b[0mtrain_loss\u001b[0m\u001b[0;34m)\u001b[0m\u001b[0;34m)\u001b[0m\u001b[0;34m\u001b[0m\u001b[0;34m\u001b[0m\u001b[0m\n",
            "\u001b[0;32m<ipython-input-29-7ecddc285e16>\u001b[0m in \u001b[0;36m_train_one_epoch\u001b[0;34m(self, model, data, loss_fn, optimizer)\u001b[0m\n\u001b[1;32m     74\u001b[0m             \u001b[0mloss\u001b[0m \u001b[0;34m=\u001b[0m \u001b[0mloss_fn\u001b[0m\u001b[0;34m(\u001b[0m\u001b[0moutputs\u001b[0m\u001b[0;34m,\u001b[0m \u001b[0my\u001b[0m\u001b[0;34m)\u001b[0m\u001b[0;34m\u001b[0m\u001b[0;34m\u001b[0m\u001b[0m\n\u001b[1;32m     75\u001b[0m             \u001b[0moptimizer\u001b[0m\u001b[0;34m.\u001b[0m\u001b[0mzero_grad\u001b[0m\u001b[0;34m(\u001b[0m\u001b[0;34m)\u001b[0m\u001b[0;34m\u001b[0m\u001b[0;34m\u001b[0m\u001b[0m\n\u001b[0;32m---> 76\u001b[0;31m             \u001b[0mloss\u001b[0m\u001b[0;34m.\u001b[0m\u001b[0mbackward\u001b[0m\u001b[0;34m(\u001b[0m\u001b[0;34m)\u001b[0m\u001b[0;34m\u001b[0m\u001b[0;34m\u001b[0m\u001b[0m\n\u001b[0m\u001b[1;32m     77\u001b[0m             \u001b[0moptimizer\u001b[0m\u001b[0;34m.\u001b[0m\u001b[0mstep\u001b[0m\u001b[0;34m(\u001b[0m\u001b[0;34m)\u001b[0m\u001b[0;34m\u001b[0m\u001b[0;34m\u001b[0m\u001b[0m\n\u001b[1;32m     78\u001b[0m \u001b[0;34m\u001b[0m\u001b[0m\n",
            "\u001b[0;32m/usr/local/lib/python3.7/dist-packages/torch/_tensor.py\u001b[0m in \u001b[0;36mbackward\u001b[0;34m(self, gradient, retain_graph, create_graph, inputs)\u001b[0m\n\u001b[1;32m    394\u001b[0m                 \u001b[0mcreate_graph\u001b[0m\u001b[0;34m=\u001b[0m\u001b[0mcreate_graph\u001b[0m\u001b[0;34m,\u001b[0m\u001b[0;34m\u001b[0m\u001b[0;34m\u001b[0m\u001b[0m\n\u001b[1;32m    395\u001b[0m                 inputs=inputs)\n\u001b[0;32m--> 396\u001b[0;31m         \u001b[0mtorch\u001b[0m\u001b[0;34m.\u001b[0m\u001b[0mautograd\u001b[0m\u001b[0;34m.\u001b[0m\u001b[0mbackward\u001b[0m\u001b[0;34m(\u001b[0m\u001b[0mself\u001b[0m\u001b[0;34m,\u001b[0m \u001b[0mgradient\u001b[0m\u001b[0;34m,\u001b[0m \u001b[0mretain_graph\u001b[0m\u001b[0;34m,\u001b[0m \u001b[0mcreate_graph\u001b[0m\u001b[0;34m,\u001b[0m \u001b[0minputs\u001b[0m\u001b[0;34m=\u001b[0m\u001b[0minputs\u001b[0m\u001b[0;34m)\u001b[0m\u001b[0;34m\u001b[0m\u001b[0;34m\u001b[0m\u001b[0m\n\u001b[0m\u001b[1;32m    397\u001b[0m \u001b[0;34m\u001b[0m\u001b[0m\n\u001b[1;32m    398\u001b[0m     \u001b[0;32mdef\u001b[0m \u001b[0mregister_hook\u001b[0m\u001b[0;34m(\u001b[0m\u001b[0mself\u001b[0m\u001b[0;34m,\u001b[0m \u001b[0mhook\u001b[0m\u001b[0;34m)\u001b[0m\u001b[0;34m:\u001b[0m\u001b[0;34m\u001b[0m\u001b[0;34m\u001b[0m\u001b[0m\n",
            "\u001b[0;32m/usr/local/lib/python3.7/dist-packages/torch/autograd/__init__.py\u001b[0m in \u001b[0;36mbackward\u001b[0;34m(tensors, grad_tensors, retain_graph, create_graph, grad_variables, inputs)\u001b[0m\n\u001b[1;32m    173\u001b[0m     Variable._execution_engine.run_backward(  # Calls into the C++ engine to run the backward pass\n\u001b[1;32m    174\u001b[0m         \u001b[0mtensors\u001b[0m\u001b[0;34m,\u001b[0m \u001b[0mgrad_tensors_\u001b[0m\u001b[0;34m,\u001b[0m \u001b[0mretain_graph\u001b[0m\u001b[0;34m,\u001b[0m \u001b[0mcreate_graph\u001b[0m\u001b[0;34m,\u001b[0m \u001b[0minputs\u001b[0m\u001b[0;34m,\u001b[0m\u001b[0;34m\u001b[0m\u001b[0;34m\u001b[0m\u001b[0m\n\u001b[0;32m--> 175\u001b[0;31m         allow_unreachable=True, accumulate_grad=True)  # Calls into the C++ engine to run the backward pass\n\u001b[0m\u001b[1;32m    176\u001b[0m \u001b[0;34m\u001b[0m\u001b[0m\n\u001b[1;32m    177\u001b[0m def grad(\n",
            "\u001b[0;31mKeyboardInterrupt\u001b[0m: "
          ]
        }
      ]
    },
    {
      "cell_type": "markdown",
      "source": [
        ""
      ],
      "metadata": {
        "id": "eGJj9BR8bPk4"
      }
    }
  ]
}