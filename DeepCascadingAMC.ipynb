{
  "nbformat": 4,
  "nbformat_minor": 0,
  "metadata": {
    "colab": {
      "name": "DeepCascadingAMC",
      "provenance": [],
      "toc_visible": true,
      "authorship_tag": "ABX9TyP/jclvrn6SdVB4veL9lTo8",
      "include_colab_link": true
    },
    "kernelspec": {
      "name": "python3",
      "display_name": "Python 3"
    },
    "language_info": {
      "name": "python"
    }
  },
  "cells": [
    {
      "cell_type": "markdown",
      "metadata": {
        "id": "view-in-github",
        "colab_type": "text"
      },
      "source": [
        "<a href=\"https://colab.research.google.com/github/YairYarden/DeepCascadingAMC/blob/feature%2Fload_dataset/DeepCascadingAMC.ipynb\" target=\"_parent\"><img src=\"https://colab.research.google.com/assets/colab-badge.svg\" alt=\"Open In Colab\"/></a>"
      ]
    },
    {
      "cell_type": "markdown",
      "source": [
        "This code implements the paper :\n",
        "\n",
        "\"**Deep cascading network architecture for robust automatic modulation classification**\"\n",
        "\n",
        "by : \n",
        "Lintianran Weng a, Yuan He b,⇑, Jianhua Peng a, Jianchao Zheng c, Xinyu Li b\n",
        "\n",
        "Refs :\n",
        "\n",
        "Loading Data : [link](https://github.com/qieaaa/Singal-CNN/blob/master/train.py)\n"
      ],
      "metadata": {
        "id": "rXTmh232euTZ"
      }
    },
    {
      "cell_type": "markdown",
      "source": [
        "# Imports"
      ],
      "metadata": {
        "id": "6eDQ5usKfpm3"
      }
    },
    {
      "cell_type": "code",
      "source": [
        "import torch\n",
        "import numpy as np\n",
        "from datetime import datetime \n",
        "import os\n",
        "\n",
        "import torchvision\n",
        "from torchvision import datasets\n",
        "import torchvision.transforms as transforms\n",
        "from torch.utils.data import DataLoader, SubsetRandomSampler\n",
        "\n",
        "import ssl\n",
        "import matplotlib.pyplot as plt\n",
        "\n",
        "# check if CUDA is available\n",
        "is_gpu_available = torch.cuda.is_available()\n",
        "\n",
        "if not is_gpu_available:\n",
        "    print('CUDA is not available.  Training on CPU ...')\n",
        "else:\n",
        "    print('CUDA is available!  Training on GPU ...')\n",
        "\n",
        "DEVICE = 'cuda' if torch.cuda.is_available() else 'cpu'\n",
        "\n",
        "# DIR_PATH = '/content/drive/MyDrive/deep_learning_project'"
      ],
      "metadata": {
        "colab": {
          "base_uri": "https://localhost:8080/"
        },
        "id": "K9SEDJ8Zeuo8",
        "outputId": "cb7f7a9b-34f7-40a8-9c46-38e4e3d0caf1"
      },
      "execution_count": 5,
      "outputs": [
        {
          "output_type": "stream",
          "name": "stdout",
          "text": [
            "CUDA is not available.  Training on CPU ...\n"
          ]
        }
      ]
    },
    {
      "cell_type": "markdown",
      "source": [
        "# Mount Google Drive"
      ],
      "metadata": {
        "id": "CMrzFyxK8eZO"
      }
    },
    {
      "cell_type": "code",
      "source": [
        "from google.colab import drive\n",
        "drive.mount('/content/drive/')\n",
        "\n",
        "drive_path = '/content/drive/MyDrive/deep_learning_project'\n",
        "data_path = os.path.join(drive_path, 'RadioML2016_b/RML2016.10b.dat')\n",
        "\n",
        "print('Drive path : ' + drive_path)\n",
        "print('Data path : ' + data_path)"
      ],
      "metadata": {
        "colab": {
          "base_uri": "https://localhost:8080/"
        },
        "id": "1chFcrgS8fqa",
        "outputId": "817d48ea-2fb9-445f-fcdd-4fd35e31e093"
      },
      "execution_count": 6,
      "outputs": [
        {
          "output_type": "stream",
          "name": "stdout",
          "text": [
            "Mounted at /content/drive/\n",
            "/content/drive/MyDrive/deep_learning_project\n"
          ]
        }
      ]
    },
    {
      "cell_type": "markdown",
      "source": [
        "# Data preparation"
      ],
      "metadata": {
        "id": "RM035Lw36q0W"
      }
    },
    {
      "cell_type": "markdown",
      "source": [
        "## Load dataset from drive"
      ],
      "metadata": {
        "id": "Cazt7lco_ujX"
      }
    },
    {
      "cell_type": "code",
      "source": [
        "import pickle, random\n",
        "with open(data_path,'rb') as xd1: \n",
        "    Xd = pickle.load(xd1,encoding='latin1')\n",
        "\n",
        "snrs,mods = map(lambda j: sorted(list(set(map(lambda x: x[j], Xd.keys())))), [1,0])\n",
        "X = []  \n",
        "lbl = []\n",
        "for mod in mods:\n",
        "    for snr in snrs:\n",
        "        X.append(Xd[(mod,snr)])\n",
        "        for i in range(Xd[(mod,snr)].shape[0]):  lbl.append((mod,snr))\n",
        "X = np.vstack(X)\n",
        "\n",
        "print('Modulation Options : ', mods)\n",
        "print('SNR Options : ', snrs)"
      ],
      "metadata": {
        "id": "1NFDDWM66tP5"
      },
      "execution_count": 12,
      "outputs": []
    },
    {
      "cell_type": "markdown",
      "source": [
        "## Divide to train & Test"
      ],
      "metadata": {
        "id": "1_8MImrL_mFK"
      }
    },
    {
      "cell_type": "code",
      "source": [
        "# Data\n",
        "np.random.seed(2016) \n",
        "n_examples = X.shape[0]\n",
        "n_train = n_examples * 0.8\n",
        "train_idx = np.random.choice(range(0,n_examples), size=int(n_train), replace=False)\n",
        "test_idx = list(set(range(0,n_examples))-set(train_idx)) #label\n",
        "X_train = X[train_idx]\n",
        "X_test =  X[test_idx]\n",
        "\n",
        "# Labels\n",
        "def to_onehot(yy):\n",
        "    yy1 = np.zeros([len(yy), max(yy)+1])\n",
        "    yy1[np.arange(len(yy)),yy] = 1\n",
        "    return yy1\n",
        "\n",
        "trainy =list(map(lambda x: mods.index(lbl[x][0]), train_idx))\n",
        "Y_train = to_onehot(trainy)\n",
        "Y_test = to_onehot(list(map(lambda x: mods.index(lbl[x][0]), test_idx)))\n",
        "\n",
        "# Print Shapes\n",
        "print ('Train dataset shape : ', X_train.shape)\n",
        "print('Train Labels shape :', Y_train.shape)\n",
        "print ('Test dataset shape : ', X_test.shape)\n",
        "print('Test Labels shape :', Y_test.shape)"
      ],
      "metadata": {
        "colab": {
          "base_uri": "https://localhost:8080/"
        },
        "id": "lQ-VSz2b_o8I",
        "outputId": "c6d448f6-dbe2-4888-95da-eeb59fcf3d68"
      },
      "execution_count": 13,
      "outputs": [
        {
          "output_type": "stream",
          "name": "stdout",
          "text": [
            "(600000, 2, 128) [2, 128]\n"
          ]
        }
      ]
    },
    {
      "cell_type": "markdown",
      "source": [
        "## Testing"
      ],
      "metadata": {
        "id": "oD8N76KSAZIX"
      }
    },
    {
      "cell_type": "code",
      "source": [
        "example = X_train[1,:,:]\n",
        "print(example.shape)"
      ],
      "metadata": {
        "colab": {
          "base_uri": "https://localhost:8080/"
        },
        "id": "Z0nFjlCPAaXI",
        "outputId": "81c5a90e-604f-4e2d-af08-cf82e7843211"
      },
      "execution_count": 33,
      "outputs": [
        {
          "output_type": "stream",
          "name": "stdout",
          "text": [
            "(2, 128)\n"
          ]
        }
      ]
    }
  ]
}